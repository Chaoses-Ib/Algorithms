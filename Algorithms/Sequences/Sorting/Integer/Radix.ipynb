{
 "cells": [
  {
   "cell_type": "code",
   "execution_count": 2,
   "metadata": {},
   "outputs": [],
   "source": [
    "def counting_sort(array, k, key):\n",
    "    count = [0] * (k + 1)\n",
    "    for i in range(len(array)):\n",
    "        count[key(array[i])] += 1\n",
    "    \n",
    "    output = [0] * len(array)\n",
    "\n",
    "    count[0] -= 1\n",
    "    for j in range(1, len(count)):\n",
    "        count[j] += count[j-1]\n",
    "    for i in reversed(range(len(array))):\n",
    "        output[count[key(array[i])]] = array[i]\n",
    "        count[key(array[i])] -= 1\n",
    "    \n",
    "    return output"
   ]
  },
  {
   "cell_type": "code",
   "execution_count": 8,
   "metadata": {},
   "outputs": [
    {
     "data": {
      "text/plain": [
       "[(0, 2), (1, 5), (2, 8), (3, 1), (7, 6), (8, 2), (10, 7)]"
      ]
     },
     "execution_count": 8,
     "metadata": {},
     "output_type": "execute_result"
    }
   ],
   "source": [
    "def radix_sort(array, d, k):\n",
    "    for i in reversed(range(d)):\n",
    "        array = counting_sort(array, k, lambda x: x[i])\n",
    "    return array"
   ]
  },
  {
   "cell_type": "code",
   "execution_count": null,
   "metadata": {},
   "outputs": [],
   "source": [
    "radix_sort([(8, 2), (3, 1), (1, 5), (7, 6), (0, 2), (10, 7), (2, 8)], 2, 10)"
   ]
  }
 ],
 "metadata": {
  "interpreter": {
   "hash": "ecf5722fdaf1897a315d257d89d94520bfcaa453217d5becf09b39e73618b0de"
  },
  "kernelspec": {
   "display_name": "Python 3.9.1 ('base')",
   "language": "python",
   "name": "python3"
  },
  "language_info": {
   "codemirror_mode": {
    "name": "ipython",
    "version": 3
   },
   "file_extension": ".py",
   "mimetype": "text/x-python",
   "name": "python",
   "nbconvert_exporter": "python",
   "pygments_lexer": "ipython3",
   "version": "3.9.1"
  },
  "orig_nbformat": 4
 },
 "nbformat": 4,
 "nbformat_minor": 2
}
