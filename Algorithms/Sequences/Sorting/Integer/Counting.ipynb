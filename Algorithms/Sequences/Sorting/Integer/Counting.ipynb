{
 "cells": [
  {
   "cell_type": "code",
   "execution_count": 10,
   "metadata": {},
   "outputs": [],
   "source": [
    "def counting_sort(array, k):\n",
    "    count = [0] * (k + 1)  # each element is in range [0, k]\n",
    "    for i in range(len(array)):\n",
    "        count[array[i]] += 1\n",
    "    \n",
    "    output = [0] * len(array)\n",
    "    \n",
    "    # count 主导\n",
    "    i = 0\n",
    "    for j in range(len(count)):\n",
    "        for _ in range(count[j]):\n",
    "            output[i] = j\n",
    "            i += 1\n",
    "    \n",
    "    return output"
   ]
  },
  {
   "cell_type": "code",
   "execution_count": 26,
   "metadata": {},
   "outputs": [],
   "source": [
    "def counting_sort(array, k):\n",
    "    count = [0] * (k + 1)  # each element is in range [0, k]\n",
    "    for i in range(len(array)):\n",
    "        count[array[i]] += 1\n",
    "    \n",
    "    output = [0] * len(array)\n",
    "\n",
    "    # array 主导\n",
    "    count[0] -= 1  # output 是零起始的\n",
    "    for j in range(1, len(count)):\n",
    "        count[j] += count[j-1]\n",
    "    for i in reversed(range(len(array))):\n",
    "        output[count[array[i]]] = array[i]\n",
    "        count[array[i]] -= 1\n",
    "    \n",
    "    return output"
   ]
  },
  {
   "cell_type": "code",
   "execution_count": 27,
   "metadata": {},
   "outputs": [
    {
     "data": {
      "text/plain": [
       "[0, 1, 2, 3, 7, 8, 10]"
      ]
     },
     "execution_count": 27,
     "metadata": {},
     "output_type": "execute_result"
    }
   ],
   "source": [
    "counting_sort([8, 3, 1, 7, 0, 10, 2], 10)"
   ]
  }
 ],
 "metadata": {
  "interpreter": {
   "hash": "ecf5722fdaf1897a315d257d89d94520bfcaa453217d5becf09b39e73618b0de"
  },
  "kernelspec": {
   "display_name": "Python 3.9.1 ('base')",
   "language": "python",
   "name": "python3"
  },
  "language_info": {
   "codemirror_mode": {
    "name": "ipython",
    "version": 3
   },
   "file_extension": ".py",
   "mimetype": "text/x-python",
   "name": "python",
   "nbconvert_exporter": "python",
   "pygments_lexer": "ipython3",
   "version": "3.9.1"
  },
  "orig_nbformat": 4
 },
 "nbformat": 4,
 "nbformat_minor": 2
}
