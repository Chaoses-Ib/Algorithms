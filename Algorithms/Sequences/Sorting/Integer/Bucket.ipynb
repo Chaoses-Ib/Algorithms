{
 "cells": [
  {
   "cell_type": "code",
   "execution_count": 5,
   "metadata": {},
   "outputs": [],
   "source": [
    "def bucket_sort(A):\n",
    "    B = []\n",
    "    for _ in range(len(A)):\n",
    "        B.append([])\n",
    "    \n",
    "    for i in range(len(A)):\n",
    "        B[int(A[i] * len(A))].append(A[i])\n",
    "    for j in range(len(B)):\n",
    "        B[j] = sorted(B[j])  # insertion sort\n",
    "    \n",
    "    output = []\n",
    "    for j in range(len(B)):\n",
    "        output.extend(B[j])\n",
    "    return output"
   ]
  },
  {
   "cell_type": "code",
   "execution_count": 6,
   "metadata": {},
   "outputs": [
    {
     "data": {
      "text/plain": [
       "[0, 0.1, 0.2, 0.3, 0.6, 0.7, 0.8]"
      ]
     },
     "execution_count": 6,
     "metadata": {},
     "output_type": "execute_result"
    }
   ],
   "source": [
    "bucket_sort([0.8, 0.3, 0.1, 0.7, 0, 0.6, 0.2])"
   ]
  }
 ],
 "metadata": {
  "interpreter": {
   "hash": "ecf5722fdaf1897a315d257d89d94520bfcaa453217d5becf09b39e73618b0de"
  },
  "kernelspec": {
   "display_name": "Python 3.9.1 ('base')",
   "language": "python",
   "name": "python3"
  },
  "language_info": {
   "codemirror_mode": {
    "name": "ipython",
    "version": 3
   },
   "file_extension": ".py",
   "mimetype": "text/x-python",
   "name": "python",
   "nbconvert_exporter": "python",
   "pygments_lexer": "ipython3",
   "version": "3.9.1"
  },
  "orig_nbformat": 4
 },
 "nbformat": 4,
 "nbformat_minor": 2
}
