{
 "cells": [
  {
   "cell_type": "code",
   "execution_count": 10,
   "metadata": {},
   "outputs": [],
   "source": [
    "# out of place\n",
    "def insertion_sorted(array):\n",
    "    sorted = []\n",
    "    for n in array:\n",
    "        for i in range(len(sorted)):\n",
    "            # 1, 2, ^, 4\n",
    "            if n <= sorted[i]:\n",
    "                sorted.insert(i, n)\n",
    "                break\n",
    "        else:\n",
    "            sorted.append(n)\n",
    "    return sorted\n",
    "\n",
    "assert insertion_sorted([7, 1, 8, 4, 2, 4]) == [1, 2, 4, 4, 7, 8]"
   ]
  },
  {
   "cell_type": "code",
   "execution_count": 15,
   "metadata": {},
   "outputs": [],
   "source": [
    "# in place\n",
    "def insertion_sorted(array):\n",
    "    array = array.copy()\n",
    "    for j in range(len(array)):\n",
    "        n = array[j]\n",
    "        # j 除了代表要插入的元素外，也代表着 len(sorted)\n",
    "        for i in range(j):\n",
    "            if n <= array[i]:\n",
    "                # 把 j 挪到 i 处，i 顺序后移\n",
    "                array[i:j+1] = [n] + array[i:j]\n",
    "                break\n",
    "    return array\n",
    "\n",
    "assert insertion_sorted([7, 1, 8, 4, 2, 4]) == [1, 2, 4, 4, 7, 8]"
   ]
  },
  {
   "cell_type": "code",
   "execution_count": 3,
   "metadata": {},
   "outputs": [],
   "source": [
    "# in place, predicate\n",
    "def insertion_sort(array, predicate):\n",
    "    for j in range(1, len(array)):\n",
    "        key = array[j]\n",
    "        i = j - 1\n",
    "        while i >= 0 and predicate(key, array[i]):\n",
    "            array[i+1] = array[i]\n",
    "            i -= 1\n",
    "        array[i+1] = key\n",
    "\n",
    "array = [7, 1, 8, 4, 2, 4]\n",
    "insertion_sort(array, lambda a, b: a < b)\n",
    "assert array == [1, 2, 4, 4, 7, 8]\n",
    "\n",
    "array = [7, 1, 8, 4, 2, 4]\n",
    "insertion_sort(array, lambda a, b: a > b)\n",
    "assert array == [8, 7, 4, 4, 2, 1]"
   ]
  }
 ],
 "metadata": {
  "interpreter": {
   "hash": "ecf5722fdaf1897a315d257d89d94520bfcaa453217d5becf09b39e73618b0de"
  },
  "kernelspec": {
   "display_name": "Python 3.9.1 ('base')",
   "language": "python",
   "name": "python3"
  },
  "language_info": {
   "codemirror_mode": {
    "name": "ipython",
    "version": 3
   },
   "file_extension": ".py",
   "mimetype": "text/x-python",
   "name": "python",
   "nbconvert_exporter": "python",
   "pygments_lexer": "ipython3",
   "version": "3.9.1"
  },
  "orig_nbformat": 4
 },
 "nbformat": 4,
 "nbformat_minor": 2
}
