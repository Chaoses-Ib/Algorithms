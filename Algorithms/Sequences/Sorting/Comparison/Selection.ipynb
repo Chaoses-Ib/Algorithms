{
 "cells": [
  {
   "cell_type": "code",
   "execution_count": 17,
   "metadata": {},
   "outputs": [],
   "source": [
    "def selection_sort(array):\n",
    "    output = []\n",
    "\n",
    "    while len(array) != 0:\n",
    "        min, min_i = array[0], 0\n",
    "        for i in range(1, len(array)):\n",
    "            if array[i] < min:\n",
    "                min, min_i = array[i], i\n",
    "        del array[min_i]\n",
    "\n",
    "        output.append(min)\n",
    "        \n",
    "    return output"
   ]
  },
  {
   "cell_type": "code",
   "execution_count": 21,
   "metadata": {},
   "outputs": [],
   "source": [
    "def selection_sort(array):\n",
    "    for j in range(len(array)):\n",
    "        min, min_i = array[j], j\n",
    "        for i in range(j + 1, len(array)):\n",
    "            if array[i] < min:\n",
    "                min, min_i = array[i], i\n",
    "        \n",
    "        array[min_i], array[j] = array[j], array[min_i]\n",
    "        \n",
    "    return array"
   ]
  },
  {
   "cell_type": "code",
   "execution_count": 22,
   "metadata": {},
   "outputs": [
    {
     "data": {
      "text/plain": [
       "[0, 1, 2, 3, 7, 8, 10]"
      ]
     },
     "execution_count": 22,
     "metadata": {},
     "output_type": "execute_result"
    }
   ],
   "source": [
    "selection_sort([8, 3, 1, 7, 0, 10, 2])"
   ]
  }
 ],
 "metadata": {
  "interpreter": {
   "hash": "ecf5722fdaf1897a315d257d89d94520bfcaa453217d5becf09b39e73618b0de"
  },
  "kernelspec": {
   "display_name": "Python 3.9.1 ('base')",
   "language": "python",
   "name": "python3"
  },
  "language_info": {
   "codemirror_mode": {
    "name": "ipython",
    "version": 3
   },
   "file_extension": ".py",
   "mimetype": "text/x-python",
   "name": "python",
   "nbconvert_exporter": "python",
   "pygments_lexer": "ipython3",
   "version": "3.9.1"
  },
  "orig_nbformat": 4
 },
 "nbformat": 4,
 "nbformat_minor": 2
}
