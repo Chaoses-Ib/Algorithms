{
 "cells": [
  {
   "cell_type": "code",
   "execution_count": 10,
   "metadata": {},
   "outputs": [
    {
     "name": "stdout",
     "output_type": "stream",
     "text": [
      "[1, 2, 4, 4, 7, 8]\n"
     ]
    }
   ],
   "source": [
    "def merge(array, p, q, r):\n",
    "    sentinel = max(array) + 1\n",
    "    left = array[p:q+1] + [sentinel]\n",
    "    right = array[q+1:r+1] + [sentinel]\n",
    "\n",
    "    i, j = 0, 0\n",
    "    for k in range(p, r + 1):\n",
    "        if left[i] <= right[j]:\n",
    "            array[k] = left[i]\n",
    "            i += 1\n",
    "        else:\n",
    "            array[k] = right[j]\n",
    "            j += 1\n",
    "\n",
    "def merge_sort(array, p, r):\n",
    "    if p < r:\n",
    "        q = (p + r) // 2\n",
    "        merge_sort(array, p, q)\n",
    "        merge_sort(array, q + 1, r)\n",
    "        merge(array, p, q, r)\n",
    "\n",
    "lst = [7, 1, 8, 4, 2, 4]\n",
    "merge_sort(lst, 0, len(lst) - 1)\n",
    "print(lst)\n",
    "assert lst == [1, 2, 4, 4, 7, 8]"
   ]
  },
  {
   "cell_type": "code",
   "execution_count": 13,
   "metadata": {},
   "outputs": [
    {
     "name": "stdout",
     "output_type": "stream",
     "text": [
      "[1, 2, 4, 4, 7, 8]\n"
     ]
    }
   ],
   "source": [
    "def merge(array, p, q, r):\n",
    "    left = array[p:q+1]\n",
    "    right = array[q+1:r+1]\n",
    "\n",
    "    i, j = 0, 0\n",
    "    for k in range(p, r + 1):\n",
    "        if i == len(left):\n",
    "            array[k] = right[j]\n",
    "            j += 1\n",
    "            continue\n",
    "        elif j == len(right):\n",
    "            array[k] = left[i]\n",
    "            i += 1\n",
    "            continue\n",
    "        \n",
    "        if left[i] <= right[j]:\n",
    "            array[k] = left[i]\n",
    "            i += 1\n",
    "        else:\n",
    "            array[k] = right[j]\n",
    "            j += 1\n",
    "\n",
    "def merge_sort(array, p, r):\n",
    "    if p < r:\n",
    "        q = (p + r) // 2\n",
    "        merge_sort(array, p, q)\n",
    "        merge_sort(array, q + 1, r)\n",
    "        merge(array, p, q, r)\n",
    "\n",
    "lst = [7, 1, 8, 4, 2, 4]\n",
    "merge_sort(lst, 0, len(lst) - 1)\n",
    "print(lst)\n",
    "assert lst == [1, 2, 4, 4, 7, 8]"
   ]
  },
  {
   "cell_type": "code",
   "execution_count": 17,
   "metadata": {},
   "outputs": [
    {
     "name": "stdout",
     "output_type": "stream",
     "text": [
      "[1, 3, 3, 4, 5, 6, 7, 8, 9]\n"
     ]
    }
   ],
   "source": [
    "# version A\n",
    "def merge(A, p, q, r):\n",
    "    L = A[p:q+1]\n",
    "    R = A[q+1:r+1]\n",
    "\n",
    "    i, j = 0, 0\n",
    "    for k in range(p, r + 1):\n",
    "        # 添加 sentinel 是为了防止 L[i] <= R[j] 越界，不使用 sentinel 的话自己判断下 i 和 j 就行了\n",
    "        if i == len(L):\n",
    "            A[k] = R[j]\n",
    "            j += 1\n",
    "            continue\n",
    "        elif j == len(R):\n",
    "            A[k] = L[i]\n",
    "            i += 1\n",
    "            continue\n",
    "        \n",
    "        if L[i] <= R[j]:\n",
    "            A[k] = L[i]\n",
    "            i += 1\n",
    "        else:\n",
    "            A[k] = R[j]\n",
    "            j += 1\n",
    "\n",
    "def merge_sort(A, p, r):\n",
    "    if p < r:\n",
    "        q = (p + r) // 2\n",
    "        merge_sort(A, p, q)\n",
    "        merge_sort(A, q + 1, r)\n",
    "        merge(A, p, q, r)\n",
    "\n",
    "A = [8, 3, 6, 5, 1, 7, 4, 3, 9]\n",
    "merge_sort(A, 0, len(A) - 1)\n",
    "print(A)"
   ]
  },
  {
   "cell_type": "code",
   "execution_count": 22,
   "metadata": {},
   "outputs": [
    {
     "name": "stdout",
     "output_type": "stream",
     "text": [
      "[1, 2, 4, 4, 7, 8]\n"
     ]
    }
   ],
   "source": [
    "# 自增时检测越界\n",
    "def merge(array, p, q, r):\n",
    "    left = array[p:q+1]\n",
    "    right = array[q+1:r+1]\n",
    "    \n",
    "    if len(left) == 0:\n",
    "        array[p:r+1] = right\n",
    "        return\n",
    "    elif len(right) == 0:\n",
    "        array[p:r+1] = left\n",
    "        return\n",
    "    \n",
    "    i, j = 0, 0\n",
    "    for k in range(p, r + 1):\n",
    "        if left[i] <= right[j]:\n",
    "            array[k] = left[i]\n",
    "            i += 1\n",
    "            if i == len(left):\n",
    "                array[k+1:r+1] = right[j:]\n",
    "                break\n",
    "        else:\n",
    "            array[k] = right[j]\n",
    "            j += 1\n",
    "            if j == len(right):\n",
    "                array[k+1:r+1] = left[i:]\n",
    "                break\n",
    "\n",
    "def merge_sort(array, p, r):\n",
    "    if p < r:\n",
    "        q = (p + r) // 2\n",
    "        merge_sort(array, p, q)\n",
    "        merge_sort(array, q + 1, r)\n",
    "        merge(array, p, q, r)\n",
    "\n",
    "array = [7, 1, 8, 4, 2, 4]\n",
    "merge_sort(array, 0, len(array) - 1)\n",
    "print(array)\n",
    "assert array == [1, 2, 4, 4, 7, 8]"
   ]
  }
 ],
 "metadata": {
  "interpreter": {
   "hash": "ecf5722fdaf1897a315d257d89d94520bfcaa453217d5becf09b39e73618b0de"
  },
  "kernelspec": {
   "display_name": "Python 3.9.1 ('base')",
   "language": "python",
   "name": "python3"
  },
  "language_info": {
   "codemirror_mode": {
    "name": "ipython",
    "version": 3
   },
   "file_extension": ".py",
   "mimetype": "text/x-python",
   "name": "python",
   "nbconvert_exporter": "python",
   "pygments_lexer": "ipython3",
   "version": "3.9.1"
  },
  "orig_nbformat": 4
 },
 "nbformat": 4,
 "nbformat_minor": 2
}
