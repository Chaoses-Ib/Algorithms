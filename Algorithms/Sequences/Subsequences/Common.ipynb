{
 "cells": [
  {
   "cell_type": "code",
   "execution_count": 1,
   "metadata": {},
   "outputs": [
    {
     "data": {
      "text/plain": [
       "'GA'"
      ]
     },
     "execution_count": 1,
     "metadata": {},
     "output_type": "execute_result"
    }
   ],
   "source": [
    "def lcs(x, y):\n",
    "    if len(x) == 0 or len(y) == 0:\n",
    "        return ''\n",
    "    elif x[-1] == y[-1]:\n",
    "        return lcs(x[:-1], y[:-1]) + x[-1]\n",
    "    else:\n",
    "        return max(lcs(x[:-1], y), lcs(x, y[:-1]), key=len)\n",
    "\n",
    "lcs('GAC', 'AGCAT')"
   ]
  },
  {
   "cell_type": "code",
   "execution_count": 22,
   "metadata": {},
   "outputs": [
    {
     "data": {
      "text/plain": [
       "'AC'"
      ]
     },
     "execution_count": 22,
     "metadata": {},
     "output_type": "execute_result"
    }
   ],
   "source": [
    "import numpy as np\n",
    "\n",
    "def lcs(x, y):\n",
    "    m, n = len(x) + 1, len(y) + 1\n",
    "    c = np.empty((m, n), dtype=int)\n",
    "    for i in range(m):\n",
    "        c[i, 0] = 0\n",
    "    for j in range(n):\n",
    "        c[0, j] = 0\n",
    "    for i in range(1, m):\n",
    "        for j in range(1, n):\n",
    "            if x[i-1] == y[j-1]:\n",
    "                c[i, j] = c[i-1, j-1] + 1\n",
    "            else:\n",
    "                c[i, j] = max(c[i-1, j], c[i, j-1])\n",
    "    \n",
    "    def backtrack(i, j):\n",
    "        if i == 0 or j == 0:\n",
    "            return ''\n",
    "        elif x[i-1] == y[j-1]:\n",
    "            return backtrack(i-1, j-1) + x[i-1]\n",
    "        elif c[i-1, j] > c[i, j-1]:\n",
    "            return backtrack(i-1, j)\n",
    "        else:\n",
    "            return backtrack(i, j-1)\n",
    "    return backtrack(m-1, n-1)\n",
    "\n",
    "lcs('GAC', 'AGCAT')"
   ]
  },
  {
   "cell_type": "markdown",
   "metadata": {},
   "source": [
    "## LeetCode"
   ]
  },
  {
   "cell_type": "code",
   "execution_count": null,
   "metadata": {},
   "outputs": [],
   "source": [
    "class Solution:\n",
    "    def longestCommonSubsequence(self, x: str, y: str) -> int:\n",
    "        m, n = len(x) + 1, len(y) + 1\n",
    "        c = [[0] * n for _ in range(m)]\n",
    "        for i in range(m):\n",
    "            c[i][0] = 0\n",
    "        for j in range(n):\n",
    "            c[0][j] = 0\n",
    "        for i in range(1, m):\n",
    "            for j in range(1, n):\n",
    "                if x[i-1] == y[j-1]:\n",
    "                    c[i][j] = c[i-1][j-1] + 1\n",
    "                else:\n",
    "                    c[i][j] = max(c[i-1][j], c[i][j-1])\n",
    "        return c[m-1][n-1]"
   ]
  }
 ],
 "metadata": {
  "kernelspec": {
   "display_name": "base",
   "language": "python",
   "name": "python3"
  },
  "language_info": {
   "codemirror_mode": {
    "name": "ipython",
    "version": 3
   },
   "file_extension": ".py",
   "mimetype": "text/x-python",
   "name": "python",
   "nbconvert_exporter": "python",
   "pygments_lexer": "ipython3",
   "version": "3.9.1"
  }
 },
 "nbformat": 4,
 "nbformat_minor": 2
}
