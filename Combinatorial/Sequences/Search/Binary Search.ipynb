{
 "cells": [
  {
   "cell_type": "code",
   "execution_count": 8,
   "metadata": {},
   "outputs": [],
   "source": [
    "import math\n",
    "import pandas as pd"
   ]
  },
  {
   "cell_type": "code",
   "execution_count": 6,
   "metadata": {},
   "outputs": [
    {
     "data": {
      "text/plain": [
       "1"
      ]
     },
     "execution_count": 6,
     "metadata": {},
     "output_type": "execute_result"
    }
   ],
   "source": [
    "def binary_search(A, T):\n",
    "    L = 0\n",
    "    R = len(A) - 1\n",
    "    while L <= R:\n",
    "        # or m = L + (R - L) // 2\n",
    "        m = (L + R) // 2\n",
    "        if A[m] < T:\n",
    "            L = m + 1\n",
    "        elif A[m] > T:\n",
    "            R = m - 1\n",
    "        else:\n",
    "            return m\n",
    "    return -1\n",
    "\n",
    "binary_search([1, 3, 5, 7, 9], 3)"
   ]
  },
  {
   "cell_type": "markdown",
   "metadata": {},
   "source": [
    "## Fewest comparison version"
   ]
  },
  {
   "cell_type": "code",
   "execution_count": 69,
   "metadata": {},
   "outputs": [
    {
     "data": {
      "text/html": [
       "<div>\n",
       "<style scoped>\n",
       "    .dataframe tbody tr th:only-of-type {\n",
       "        vertical-align: middle;\n",
       "    }\n",
       "\n",
       "    .dataframe tbody tr th {\n",
       "        vertical-align: top;\n",
       "    }\n",
       "\n",
       "    .dataframe thead th {\n",
       "        text-align: right;\n",
       "    }\n",
       "</style>\n",
       "<table border=\"1\" class=\"dataframe\">\n",
       "  <thead>\n",
       "    <tr style=\"text-align: right;\">\n",
       "      <th></th>\n",
       "      <th>count</th>\n",
       "    </tr>\n",
       "  </thead>\n",
       "  <tbody>\n",
       "    <tr>\n",
       "      <th>count</th>\n",
       "      <td>256.000000</td>\n",
       "    </tr>\n",
       "    <tr>\n",
       "      <th>mean</th>\n",
       "      <td>11.042969</td>\n",
       "    </tr>\n",
       "    <tr>\n",
       "      <th>std</th>\n",
       "      <td>2.333496</td>\n",
       "    </tr>\n",
       "    <tr>\n",
       "      <th>min</th>\n",
       "      <td>2.000000</td>\n",
       "    </tr>\n",
       "    <tr>\n",
       "      <th>25%</th>\n",
       "      <td>10.000000</td>\n",
       "    </tr>\n",
       "    <tr>\n",
       "      <th>50%</th>\n",
       "      <td>11.000000</td>\n",
       "    </tr>\n",
       "    <tr>\n",
       "      <th>75%</th>\n",
       "      <td>13.000000</td>\n",
       "    </tr>\n",
       "    <tr>\n",
       "      <th>max</th>\n",
       "      <td>16.000000</td>\n",
       "    </tr>\n",
       "  </tbody>\n",
       "</table>\n",
       "</div>"
      ],
      "text/plain": [
       "            count\n",
       "count  256.000000\n",
       "mean    11.042969\n",
       "std      2.333496\n",
       "min      2.000000\n",
       "25%     10.000000\n",
       "50%     11.000000\n",
       "75%     13.000000\n",
       "max     16.000000"
      ]
     },
     "metadata": {},
     "output_type": "display_data"
    },
    {
     "name": "stdout",
     "output_type": "stream",
     "text": [
      "max: 16.0\n"
     ]
    }
   ],
   "source": [
    "# Comparison count\n",
    "def binary_search(A, T):\n",
    "    L = 0\n",
    "    R = len(A) - 1\n",
    "    count = 0\n",
    "    while L <= R:\n",
    "        m = (L + R) // 2\n",
    "        if (count := count + 1) and A[m] < T:\n",
    "            L = m + 1\n",
    "        elif (count := count + 1) and A[m] > T:\n",
    "            R = m - 1\n",
    "        else:\n",
    "            return m, count\n",
    "    return -1, count\n",
    "\n",
    "def count_test(f):\n",
    "    for t in range(256):\n",
    "        if binary_search(list(range(256)), t)[0] != t:\n",
    "            raise\n",
    "\n",
    "    df = pd.DataFrame([binary_search(list(range(256)), t)[1] for t in range(256)], columns=['count'])\n",
    "    display(df.describe())\n",
    "    \n",
    "count_test(binary_search)\n",
    "print(f'max: {2 * math.log2(256)}')"
   ]
  },
  {
   "cell_type": "code",
   "execution_count": 70,
   "metadata": {},
   "outputs": [
    {
     "data": {
      "text/html": [
       "<div>\n",
       "<style scoped>\n",
       "    .dataframe tbody tr th:only-of-type {\n",
       "        vertical-align: middle;\n",
       "    }\n",
       "\n",
       "    .dataframe tbody tr th {\n",
       "        vertical-align: top;\n",
       "    }\n",
       "\n",
       "    .dataframe thead th {\n",
       "        text-align: right;\n",
       "    }\n",
       "</style>\n",
       "<table border=\"1\" class=\"dataframe\">\n",
       "  <thead>\n",
       "    <tr style=\"text-align: right;\">\n",
       "      <th></th>\n",
       "      <th>count</th>\n",
       "    </tr>\n",
       "  </thead>\n",
       "  <tbody>\n",
       "    <tr>\n",
       "      <th>count</th>\n",
       "      <td>256.000000</td>\n",
       "    </tr>\n",
       "    <tr>\n",
       "      <th>mean</th>\n",
       "      <td>10.167969</td>\n",
       "    </tr>\n",
       "    <tr>\n",
       "      <th>std</th>\n",
       "      <td>1.069684</td>\n",
       "    </tr>\n",
       "    <tr>\n",
       "      <th>min</th>\n",
       "      <td>9.000000</td>\n",
       "    </tr>\n",
       "    <tr>\n",
       "      <th>25%</th>\n",
       "      <td>9.000000</td>\n",
       "    </tr>\n",
       "    <tr>\n",
       "      <th>50%</th>\n",
       "      <td>10.000000</td>\n",
       "    </tr>\n",
       "    <tr>\n",
       "      <th>75%</th>\n",
       "      <td>11.000000</td>\n",
       "    </tr>\n",
       "    <tr>\n",
       "      <th>max</th>\n",
       "      <td>12.000000</td>\n",
       "    </tr>\n",
       "  </tbody>\n",
       "</table>\n",
       "</div>"
      ],
      "text/plain": [
       "            count\n",
       "count  256.000000\n",
       "mean    10.167969\n",
       "std      1.069684\n",
       "min      9.000000\n",
       "25%      9.000000\n",
       "50%     10.000000\n",
       "75%     11.000000\n",
       "max     12.000000"
      ]
     },
     "metadata": {},
     "output_type": "display_data"
    }
   ],
   "source": [
    "def binary_search(A, T):\n",
    "    L = 0\n",
    "    R = len(A) - 1\n",
    "    count = 0\n",
    "    while L <= R:\n",
    "        m = (L + R) // 2\n",
    "        if (count := count + 1) and A[m] <= T:\n",
    "            if L != m:\n",
    "                L = m\n",
    "            else:\n",
    "                if (count := count + 1) and A[m] == T:\n",
    "                    return m, count\n",
    "                else:\n",
    "                    L = m + 1\n",
    "        else:\n",
    "            R = m - 1\n",
    "    return -1, count\n",
    "\n",
    "#binary_search([1,3,5,7,9], 3)\n",
    "count_test(binary_search)"
   ]
  },
  {
   "cell_type": "code",
   "execution_count": 114,
   "metadata": {},
   "outputs": [
    {
     "data": {
      "text/html": [
       "<div>\n",
       "<style scoped>\n",
       "    .dataframe tbody tr th:only-of-type {\n",
       "        vertical-align: middle;\n",
       "    }\n",
       "\n",
       "    .dataframe tbody tr th {\n",
       "        vertical-align: top;\n",
       "    }\n",
       "\n",
       "    .dataframe thead th {\n",
       "        text-align: right;\n",
       "    }\n",
       "</style>\n",
       "<table border=\"1\" class=\"dataframe\">\n",
       "  <thead>\n",
       "    <tr style=\"text-align: right;\">\n",
       "      <th></th>\n",
       "      <th>count</th>\n",
       "    </tr>\n",
       "  </thead>\n",
       "  <tbody>\n",
       "    <tr>\n",
       "      <th>count</th>\n",
       "      <td>256.0</td>\n",
       "    </tr>\n",
       "    <tr>\n",
       "      <th>mean</th>\n",
       "      <td>8.0</td>\n",
       "    </tr>\n",
       "    <tr>\n",
       "      <th>std</th>\n",
       "      <td>0.0</td>\n",
       "    </tr>\n",
       "    <tr>\n",
       "      <th>min</th>\n",
       "      <td>8.0</td>\n",
       "    </tr>\n",
       "    <tr>\n",
       "      <th>25%</th>\n",
       "      <td>8.0</td>\n",
       "    </tr>\n",
       "    <tr>\n",
       "      <th>50%</th>\n",
       "      <td>8.0</td>\n",
       "    </tr>\n",
       "    <tr>\n",
       "      <th>75%</th>\n",
       "      <td>8.0</td>\n",
       "    </tr>\n",
       "    <tr>\n",
       "      <th>max</th>\n",
       "      <td>8.0</td>\n",
       "    </tr>\n",
       "  </tbody>\n",
       "</table>\n",
       "</div>"
      ],
      "text/plain": [
       "       count\n",
       "count  256.0\n",
       "mean     8.0\n",
       "std      0.0\n",
       "min      8.0\n",
       "25%      8.0\n",
       "50%      8.0\n",
       "75%      8.0\n",
       "max      8.0"
      ]
     },
     "metadata": {},
     "output_type": "display_data"
    },
    {
     "name": "stdout",
     "output_type": "stream",
     "text": [
      "8 / 11.04 = 72.5%\n",
      "9 / 11.04 = 81.5%\n"
     ]
    }
   ],
   "source": [
    "def binary_search(A, T):\n",
    "    result = 0\n",
    "    count = 0\n",
    "    for k in reversed(range(math.ceil(math.log2(len(A))))):\n",
    "        i = result + 2**k\n",
    "        if i < len(A) and (count := count + 1) and T >= A[i]:\n",
    "            result = i\n",
    "    return result, count\n",
    "    \n",
    "    if T == A[result]:\n",
    "        return result, count\n",
    "    else:\n",
    "        return -1, count\n",
    "\n",
    "#binary_search([1,3,5,7,9], 3)\n",
    "count_test(binary_search)\n",
    "print(f'8 / 11.04 = {8/11.04*100 :.1f}%')\n",
    "print(f'9 / 11.04 = {9/11.04*100 :.1f}%')"
   ]
  },
  {
   "cell_type": "code",
   "execution_count": 113,
   "metadata": {},
   "outputs": [
    {
     "data": {
      "text/html": [
       "<div>\n",
       "<style scoped>\n",
       "    .dataframe tbody tr th:only-of-type {\n",
       "        vertical-align: middle;\n",
       "    }\n",
       "\n",
       "    .dataframe tbody tr th {\n",
       "        vertical-align: top;\n",
       "    }\n",
       "\n",
       "    .dataframe thead th {\n",
       "        text-align: right;\n",
       "    }\n",
       "</style>\n",
       "<table border=\"1\" class=\"dataframe\">\n",
       "  <thead>\n",
       "    <tr style=\"text-align: right;\">\n",
       "      <th></th>\n",
       "      <th>count</th>\n",
       "    </tr>\n",
       "  </thead>\n",
       "  <tbody>\n",
       "    <tr>\n",
       "      <th>count</th>\n",
       "      <td>256.0</td>\n",
       "    </tr>\n",
       "    <tr>\n",
       "      <th>mean</th>\n",
       "      <td>8.0</td>\n",
       "    </tr>\n",
       "    <tr>\n",
       "      <th>std</th>\n",
       "      <td>0.0</td>\n",
       "    </tr>\n",
       "    <tr>\n",
       "      <th>min</th>\n",
       "      <td>8.0</td>\n",
       "    </tr>\n",
       "    <tr>\n",
       "      <th>25%</th>\n",
       "      <td>8.0</td>\n",
       "    </tr>\n",
       "    <tr>\n",
       "      <th>50%</th>\n",
       "      <td>8.0</td>\n",
       "    </tr>\n",
       "    <tr>\n",
       "      <th>75%</th>\n",
       "      <td>8.0</td>\n",
       "    </tr>\n",
       "    <tr>\n",
       "      <th>max</th>\n",
       "      <td>8.0</td>\n",
       "    </tr>\n",
       "  </tbody>\n",
       "</table>\n",
       "</div>"
      ],
      "text/plain": [
       "       count\n",
       "count  256.0\n",
       "mean     8.0\n",
       "std      0.0\n",
       "min      8.0\n",
       "25%      8.0\n",
       "50%      8.0\n",
       "75%      8.0\n",
       "max      8.0"
      ]
     },
     "metadata": {},
     "output_type": "display_data"
    }
   ],
   "source": [
    "def binary_search(A, T):\n",
    "    L = 0\n",
    "    R = len(A) - 1\n",
    "    count = 0\n",
    "    while L < R:\n",
    "        m = (L + R) // 2\n",
    "        if (count := count + 1) and A[m] < T:\n",
    "            L = m + 1\n",
    "        else:\n",
    "            R = m\n",
    "    return L, count\n",
    "\n",
    "#binary_search([1,3,5,7,9], 3)\n",
    "count_test(binary_search)"
   ]
  },
  {
   "cell_type": "code",
   "execution_count": 105,
   "metadata": {},
   "outputs": [
    {
     "data": {
      "text/plain": [
       "15"
      ]
     },
     "execution_count": 105,
     "metadata": {},
     "output_type": "execute_result"
    }
   ],
   "source": [
    "class unknown:\n",
    "    def __init__(self, v):\n",
    "        self.v = v\n",
    "\n",
    "    def __ge__(self, other):\n",
    "        return self.v >= other\n",
    "\n",
    "def binary_search(T):\n",
    "    result = 0\n",
    "    for k in reversed(range(8)):\n",
    "        i = result + (1 << k)\n",
    "        if T >= i:  # 8 comparison in total\n",
    "            result = i\n",
    "    return result\n",
    "\n",
    "binary_search(unknown(15))"
   ]
  }
 ],
 "metadata": {
  "kernelspec": {
   "display_name": "Python 3.9.1 ('base')",
   "language": "python",
   "name": "python3"
  },
  "language_info": {
   "codemirror_mode": {
    "name": "ipython",
    "version": 3
   },
   "file_extension": ".py",
   "mimetype": "text/x-python",
   "name": "python",
   "nbconvert_exporter": "python",
   "pygments_lexer": "ipython3",
   "version": "3.9.1"
  },
  "orig_nbformat": 4,
  "vscode": {
   "interpreter": {
    "hash": "19d1d53a962d236aa061289c2ac16dc8e6d9648c89fe79f459ae9a3493bc67b4"
   }
  }
 },
 "nbformat": 4,
 "nbformat_minor": 2
}
