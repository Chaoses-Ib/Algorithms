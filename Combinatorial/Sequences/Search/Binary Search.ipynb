{
 "cells": [
  {
   "cell_type": "code",
   "execution_count": 6,
   "metadata": {},
   "outputs": [
    {
     "data": {
      "text/plain": [
       "1"
      ]
     },
     "execution_count": 6,
     "metadata": {},
     "output_type": "execute_result"
    }
   ],
   "source": [
    "def binary_search(A, T):\n",
    "    L = 0\n",
    "    R = len(A) - 1\n",
    "    while L <= R:\n",
    "        # or m = L + (R - L) // 2\n",
    "        m = (L + R) // 2\n",
    "        if A[m] < T:\n",
    "            L = m + 1\n",
    "        elif A[m] > T:\n",
    "            R = m - 1\n",
    "        else:\n",
    "            return m\n",
    "    return -1\n",
    "\n",
    "binary_search([1, 3, 5, 7, 9], 3)"
   ]
  }
 ],
 "metadata": {
  "kernelspec": {
   "display_name": "Python 3.9.1 ('base')",
   "language": "python",
   "name": "python3"
  },
  "language_info": {
   "codemirror_mode": {
    "name": "ipython",
    "version": 3
   },
   "file_extension": ".py",
   "mimetype": "text/x-python",
   "name": "python",
   "nbconvert_exporter": "python",
   "pygments_lexer": "ipython3",
   "version": "3.9.1"
  },
  "orig_nbformat": 4,
  "vscode": {
   "interpreter": {
    "hash": "19d1d53a962d236aa061289c2ac16dc8e6d9648c89fe79f459ae9a3493bc67b4"
   }
  }
 },
 "nbformat": 4,
 "nbformat_minor": 2
}
