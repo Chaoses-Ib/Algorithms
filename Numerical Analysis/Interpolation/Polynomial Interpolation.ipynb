{
 "cells": [
  {
   "cell_type": "code",
   "execution_count": 1,
   "metadata": {},
   "outputs": [],
   "source": [
    "from sage.all import *"
   ]
  },
  {
   "cell_type": "code",
   "execution_count": 62,
   "metadata": {},
   "outputs": [],
   "source": [
    "%display latex"
   ]
  },
  {
   "cell_type": "code",
   "execution_count": 43,
   "metadata": {},
   "outputs": [],
   "source": [
    "%display plain"
   ]
  },
  {
   "cell_type": "code",
   "execution_count": 44,
   "metadata": {},
   "outputs": [
    {
     "data": {
      "text/plain": [
       "(x - x1)*(x - x2)*(x - x3)*y0/((x0 - x1)*(x0 - x2)*(x0 - x3)) - (x - x0)*(x - x2)*(x - x3)*y1/((x0 - x1)*(x1 - x2)*(x1 - x3)) + (x - x0)*(x - x1)*(x - x3)*y2/((x0 - x2)*(x1 - x2)*(x2 - x3)) - (x - x0)*(x - x1)*(x - x2)*y3/((x0 - x3)*(x1 - x3)*(x2 - x3))"
      ]
     },
     "execution_count": 44,
     "metadata": {},
     "output_type": "execute_result"
    }
   ],
   "source": [
    "def lagrange_poly(X, Y):\n",
    "    return sum(\n",
    "        Y[k] * prod(\n",
    "            (x - X[i]) / (X[k] - X[i])\n",
    "            for i in filter(lambda i: i != k, range(len(X)))\n",
    "            )\n",
    "        for k in range(len(X))\n",
    "        )\n",
    "\n",
    "lagrange_poly(var('x0 x1 x2 x3'), var('y0 y1 y2 y3'))"
   ]
  },
  {
   "cell_type": "markdown",
   "metadata": {},
   "source": [
    "$$\\displaystyle \\frac{{\\left(x - x_{1}\\right)} {\\left(x - x_{2}\\right)} {\\left(x - x_{3}\\right)} y_{0}}{{\\left(x_{0} - x_{1}\\right)} {\\left(x_{0} - x_{2}\\right)} {\\left(x_{0} - x_{3}\\right)}} - \\frac{{\\left(x - x_{0}\\right)} {\\left(x - x_{2}\\right)} {\\left(x - x_{3}\\right)} y_{1}}{{\\left(x_{0} - x_{1}\\right)} {\\left(x_{1} - x_{2}\\right)} {\\left(x_{1} - x_{3}\\right)}} + \\frac{{\\left(x - x_{0}\\right)} {\\left(x - x_{1}\\right)} {\\left(x - x_{3}\\right)} y_{2}}{{\\left(x_{0} - x_{2}\\right)} {\\left(x_{1} - x_{2}\\right)} {\\left(x_{2} - x_{3}\\right)}} - \\frac{{\\left(x - x_{0}\\right)} {\\left(x - x_{1}\\right)} {\\left(x - x_{2}\\right)} y_{3}}{{\\left(x_{0} - x_{3}\\right)} {\\left(x_{1} - x_{3}\\right)} {\\left(x_{2} - x_{3}\\right)}}\\$$"
   ]
  },
  {
   "cell_type": "code",
   "execution_count": 45,
   "metadata": {},
   "outputs": [
    {
     "data": {
      "text/plain": [
       "-1/8*(x - 1)*(x - 2)*(x - 4) + 1/8*(x - 1)*(x - 2)*x - 23/4*(x - 1)*(x - 4)*x + 3*(x - 2)*(x - 4)*x"
      ]
     },
     "execution_count": 45,
     "metadata": {},
     "output_type": "execute_result"
    }
   ],
   "source": [
    "lagrange_poly([0, 1, 2, 4], [1, 9, 23, 3])"
   ]
  },
  {
   "cell_type": "markdown",
   "metadata": {},
   "source": [
    "$$\\displaystyle -\\frac{1}{8} \\, {\\left(x - 1\\right)} {\\left(x - 2\\right)} {\\left(x - 4\\right)} + \\frac{1}{8} \\, {\\left(x - 1\\right)} {\\left(x - 2\\right)} x - \\frac{23}{4} \\, {\\left(x - 1\\right)} {\\left(x - 4\\right)} x + 3 \\, {\\left(x - 2\\right)} {\\left(x - 4\\right)} x$$"
   ]
  },
  {
   "cell_type": "code",
   "execution_count": 70,
   "metadata": {},
   "outputs": [
    {
     "name": "stdout",
     "output_type": "stream",
     "text": [
      "(f(x0) - f(x1))/(x0 - x1)\n",
      "((f(x0) - f(x1))/(x0 - x1) - (f(x1) - f(x2))/(x1 - x2))/(x0 - x2)\n"
     ]
    }
   ],
   "source": [
    "def divided_difference(f, args):\n",
    "    if len(args) == 1:\n",
    "        return f(args[0])\n",
    "    return (divided_difference(f, args[1:]) - divided_difference(f, args[:-1])) / (args[-1] - args[0])\n",
    "\n",
    "print(divided_difference(function('f'), var('x0 x1')))\n",
    "print(divided_difference(function('f'), var('x0 x1 x2')))"
   ]
  },
  {
   "cell_type": "code",
   "execution_count": 72,
   "metadata": {},
   "outputs": [
    {
     "data": {
      "text/html": [
       "<html>\\(\\displaystyle \\frac{{\\left(x - x_{0}\\right)} {\\left(x - x_{1}\\right)} {\\left(\\frac{f\\left(x_{0}\\right) - f\\left(x_{1}\\right)}{x_{0} - x_{1}} - \\frac{f\\left(x_{1}\\right) - f\\left(x_{2}\\right)}{x_{1} - x_{2}}\\right)}}{x_{0} - x_{2}} + \\frac{{\\left(x - x_{0}\\right)} {\\left(f\\left(x_{0}\\right) - f\\left(x_{1}\\right)\\right)}}{x_{0} - x_{1}} + f\\left(x_{0}\\right)\\)</html>"
      ],
      "text/latex": [
       "$\\displaystyle \\frac{{\\left(x - x_{0}\\right)} {\\left(x - x_{1}\\right)} {\\left(\\frac{f\\left(x_{0}\\right) - f\\left(x_{1}\\right)}{x_{0} - x_{1}} - \\frac{f\\left(x_{1}\\right) - f\\left(x_{2}\\right)}{x_{1} - x_{2}}\\right)}}{x_{0} - x_{2}} + \\frac{{\\left(x - x_{0}\\right)} {\\left(f\\left(x_{0}\\right) - f\\left(x_{1}\\right)\\right)}}{x_{0} - x_{1}} + f\\left(x_{0}\\right)$"
      ],
      "text/plain": [
       "(x - x0)*(x - x1)*((f(x0) - f(x1))/(x0 - x1) - (f(x1) - f(x2))/(x1 - x2))/(x0 - x2) + (x - x0)*(f(x0) - f(x1))/(x0 - x1) + f(x0)"
      ]
     },
     "execution_count": 72,
     "metadata": {},
     "output_type": "execute_result"
    }
   ],
   "source": [
    "def newton_poly(X, Y):\n",
    "    return sum(\n",
    "        divided_difference(function('f'), X[:i+1]) * prod(x - X[k] for k in range(i))\n",
    "        for i in range(len(X))\n",
    "    )\n",
    "\n",
    "newton_poly(var('x0 x1 x2'), var('y0 y1 y2'))"
   ]
  },
  {
   "cell_type": "markdown",
   "metadata": {},
   "source": [
    "$$\\displaystyle \\frac{{\\left(x - x_{0}\\right)} {\\left(x - x_{1}\\right)} {\\left(\\frac{f\\left(x_{0}\\right) - f\\left(x_{1}\\right)}{x_{0} - x_{1}} - \\frac{f\\left(x_{1}\\right) - f\\left(x_{2}\\right)}{x_{1} - x_{2}}\\right)}}{x_{0} - x_{2}} + \\frac{{\\left(x - x_{0}\\right)} {\\left(f\\left(x_{0}\\right) - f\\left(x_{1}\\right)\\right)}}{x_{0} - x_{1}} + f\\left(x_{0}\\right)$$"
   ]
  },
  {
   "cell_type": "code",
   "execution_count": 73,
   "metadata": {},
   "outputs": [
    {
     "data": {
      "text/html": [
       "<html>\\(\\displaystyle \\frac{{\\left(x - x_{0}\\right)} {\\left(x - x_{1}\\right)} {\\left(\\frac{y_{0} - y_{1}}{x_{0} - x_{1}} - \\frac{y_{1} - y_{2}}{x_{1} - x_{2}}\\right)}}{x_{0} - x_{2}} + \\frac{{\\left(x - x_{0}\\right)} {\\left(y_{0} - y_{1}\\right)}}{x_{0} - x_{1}} + y_{0}\\)</html>"
      ],
      "text/latex": [
       "$\\displaystyle \\frac{{\\left(x - x_{0}\\right)} {\\left(x - x_{1}\\right)} {\\left(\\frac{y_{0} - y_{1}}{x_{0} - x_{1}} - \\frac{y_{1} - y_{2}}{x_{1} - x_{2}}\\right)}}{x_{0} - x_{2}} + \\frac{{\\left(x - x_{0}\\right)} {\\left(y_{0} - y_{1}\\right)}}{x_{0} - x_{1}} + y_{0}$"
      ],
      "text/plain": [
       "(x - x0)*(x - x1)*((y0 - y1)/(x0 - x1) - (y1 - y2)/(x1 - x2))/(x0 - x2) + (x - x0)*(y0 - y1)/(x0 - x1) + y0"
      ]
     },
     "execution_count": 73,
     "metadata": {},
     "output_type": "execute_result"
    }
   ],
   "source": [
    "def newton_poly(X, Y):\n",
    "    def f(X, Y):\n",
    "        if len(X) == 1:\n",
    "            return Y[0]\n",
    "        return (f(X[1:], Y[1:]) - f(X[:-1], Y[:-1])) / (X[-1] - X[0])\n",
    "    \n",
    "    return sum(\n",
    "        f(X[:i+1], Y[:i+1]) * prod(x - X[k] for k in range(i))\n",
    "        for i in range(len(X))\n",
    "    )\n",
    "\n",
    "newton_poly(var('x0 x1 x2'), var('y0 y1 y2'))"
   ]
  },
  {
   "cell_type": "markdown",
   "metadata": {},
   "source": [
    "$$\\displaystyle \\frac{{\\left(x - x_{0}\\right)} {\\left(x - x_{1}\\right)} {\\left(\\frac{y_{0} - y_{1}}{x_{0} - x_{1}} - \\frac{y_{1} - y_{2}}{x_{1} - x_{2}}\\right)}}{x_{0} - x_{2}} + \\frac{{\\left(x - x_{0}\\right)} {\\left(y_{0} - y_{1}\\right)}}{x_{0} - x_{1}} + y_{0}$$"
   ]
  }
 ],
 "metadata": {
  "kernelspec": {
   "display_name": "SageMath 9.6",
   "language": "sage",
   "name": "sagemath"
  },
  "language_info": {
   "codemirror_mode": {
    "name": "ipython",
    "version": 3
   },
   "file_extension": ".py",
   "mimetype": "text/x-python",
   "name": "python",
   "nbconvert_exporter": "python",
   "pygments_lexer": "ipython3",
   "version": "3.10.6"
  },
  "orig_nbformat": 4
 },
 "nbformat": 4,
 "nbformat_minor": 2
}
