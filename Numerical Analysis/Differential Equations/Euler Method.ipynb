{
 "cells": [
  {
   "cell_type": "code",
   "execution_count": 1,
   "metadata": {},
   "outputs": [],
   "source": [
    "from sage.all import *"
   ]
  },
  {
   "cell_type": "code",
   "execution_count": 16,
   "metadata": {},
   "outputs": [
    {
     "name": "stdout",
     "output_type": "stream",
     "text": [
      "[ 1.00000000000000 0.100000000000000]\n",
      "[ 1.10000000000000 0.117154194569723]\n",
      "[ 1.20000000000000 0.144091628046165]\n",
      "[ 1.30000000000000 0.186941952361065]\n",
      "[ 1.40000000000000 0.257010879863669]\n",
      "[ 1.50000000000000 0.375903010718741]\n",
      "[ 1.60000000000000 0.585984451511339]\n",
      "[ 1.70000000000000 0.968942515767599]\n",
      "[ 1.80000000000000  1.65357181976982]\n",
      "[ 1.90000000000000  2.63912230848100]\n",
      "[ 2.00000000000000  3.20273903719029]\n",
      "[ 2.10000000000000  3.11854335297429]\n",
      "[ 2.20000000000000  3.15576227324789]\n",
      "[ 2.30000000000000  3.12904630731839]\n",
      "[ 2.40000000000000  3.15657304628632]\n",
      "[ 2.50000000000000  3.11844094918424]\n",
      "[ 2.60000000000000  3.18663106147176]\n",
      "[ 2.70000000000000  3.03352649098706]\n",
      "[ 2.80000000000000  3.45605513762740]\n",
      "[ 2.90000000000000  2.06278881235297]\n",
      "[ 3.00000000000000  6.62003524964232]\n"
     ]
    }
   ],
   "source": [
    "def euler(f, a, b, ya, M):\n",
    "    h = (b - a) / M\n",
    "    table = matrix(RR, M + 1, 2)\n",
    "    table[0] = a, ya\n",
    "    for k in range(1, M + 1):\n",
    "        table[k] = a + k * h, table[k - 1][1] + h * f(x=table[k - 1][0], y=table[k - 1][1])\n",
    "    return table\n",
    "\n",
    "y = var('y')\n",
    "print(euler((x * exp(x) - 1) * sin(y), 1, 3, 0.1, 20).str())"
   ]
  },
  {
   "cell_type": "code",
   "execution_count": 201,
   "metadata": {},
   "outputs": [],
   "source": [
    "L = 25000\n",
    "k = 0.00003\n",
    "x = 1\n",
    "y = var('y')\n",
    "#[s[y].n() for s in (k*y*(L-y)*x + 250 == y).solve(y, solution_dict=True)]"
   ]
  },
  {
   "cell_type": "code",
   "execution_count": 203,
   "metadata": {},
   "outputs": [
    {
     "data": {
      "text/plain": [
       "-4/3*log(y(x) - 25000) + 4/3*log(y(x)) == -4/3*I*pi + x - 4/3*log(24750) + 4/3*log(250)"
      ]
     },
     "execution_count": 203,
     "metadata": {},
     "output_type": "execute_result"
    }
   ],
   "source": [
    "x = var('x')\n",
    "y = function('y')(x)\n",
    "desolve(diff(y, x) == k*y*(L-y), y, [0, 250])"
   ]
  },
  {
   "cell_type": "code",
   "execution_count": 204,
   "metadata": {},
   "outputs": [
    {
     "data": {
      "text/plain": [
       "[log(y(1)) == -I*pi - log(24750) + log(250) + log(y(1) - 25000) + 3/4]"
      ]
     },
     "execution_count": 204,
     "metadata": {},
     "output_type": "execute_result"
    }
   ],
   "source": [
    "solve([desolve(diff(y, x) == k*y*(L-y), y, [0, 250])(x=1)], y(x=1))"
   ]
  },
  {
   "cell_type": "code",
   "execution_count": 80,
   "metadata": {},
   "outputs": [
    {
     "name": "stdout",
     "output_type": "stream",
     "text": [
      "[0.000000000000000  250.000000000000]\n",
      "[0.200000000000000  287.125000000000]\n",
      "[0.400000000000000  329.699105406250]\n",
      "[0.600000000000000  378.501762216553]\n",
      "[0.800000000000000  434.417445045030]\n",
      "[ 1.00000000000000  498.447750702428]\n"
     ]
    }
   ],
   "source": [
    "def euler(f, a, ya, h, b):\n",
    "    n = ceil((b - a) / h)\n",
    "    table = matrix(RR, n + 1, 2)\n",
    "    table[0] = a, ya\n",
    "    for k in range(1, n + 1):\n",
    "        table[k] = a + k * h, table[k-1][1] + h * f(x=table[k-1][0], y=table[k-1][1])\n",
    "    return table\n",
    "\n",
    "y = var('y')\n",
    "print(euler(k * y * (L - y), 0, 250, 0.2, 1).str())"
   ]
  },
  {
   "cell_type": "code",
   "execution_count": 81,
   "metadata": {},
   "outputs": [
    {
     "name": "stdout",
     "output_type": "stream",
     "text": [
      "         x                    y                  h*f(x,y)\n",
      "         0                  250     37.1250000000000\n",
      "0.200000000000000     287.125000000000     42.5741054062500\n",
      "0.400000000000000     329.699105406250     48.8026568103034\n",
      "0.600000000000000     378.501762216553     55.9156828284768\n",
      "0.800000000000000     434.417445045030     64.0303056573978\n",
      "1.00000000000000     498.447750702428     73.2764616442823\n"
     ]
    }
   ],
   "source": [
    "eulers_method(lambda x, y: k * y * (L - y), 0, 250, 0.2, 1)"
   ]
  }
 ],
 "metadata": {
  "kernelspec": {
   "display_name": "SageMath 9.6",
   "language": "sage",
   "name": "sagemath"
  },
  "language_info": {
   "codemirror_mode": {
    "name": "ipython",
    "version": 3
   },
   "file_extension": ".py",
   "mimetype": "text/x-python",
   "name": "python",
   "nbconvert_exporter": "python",
   "pygments_lexer": "ipython3",
   "version": "3.10.6"
  },
  "orig_nbformat": 4
 },
 "nbformat": 4,
 "nbformat_minor": 2
}
