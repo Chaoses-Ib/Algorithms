{
 "cells": [
  {
   "cell_type": "code",
   "execution_count": 1,
   "metadata": {},
   "outputs": [],
   "source": [
    "from sage.all import *"
   ]
  },
  {
   "cell_type": "code",
   "execution_count": 4,
   "metadata": {},
   "outputs": [
    {
     "name": "stdout",
     "output_type": "stream",
     "text": [
      "[ 1.00000000000000 0.100000000000000]\n",
      "[ 1.10000000000000 0.102214061559477]\n",
      "[ 1.20000000000000 0.105288832390903]\n",
      "[ 1.30000000000000 0.109491179570856]\n",
      "[ 1.40000000000000 0.115204313179545]\n",
      "[ 1.50000000000000 0.122994598001363]\n",
      "[ 1.60000000000000 0.133726044587719]\n",
      "[ 1.70000000000000 0.148762656964100]\n",
      "[ 1.80000000000000 0.170334926283717]\n",
      "[ 1.90000000000000 0.202204517359141]\n",
      "[ 2.00000000000000 0.250779243329200]\n",
      "[ 2.10000000000000 0.326302790769811]\n",
      "[ 2.20000000000000 0.440572312602879]\n",
      "[ 2.30000000000000 0.594160004945534]\n",
      "[ 2.40000000000000 0.775013329975865]\n",
      "[ 2.50000000000000 0.975377540749052]\n",
      "[ 2.60000000000000  1.16760921068204]\n",
      "[ 2.70000000000000  1.31853682424360]\n",
      "[ 2.80000000000000  1.43295015175186]\n",
      "[ 2.90000000000000  1.51314248369163]\n",
      "[ 3.00000000000000  1.24596178875309]\n"
     ]
    }
   ],
   "source": [
    "def runge_kutta_4(f, a, ya, b, M):\n",
    "    h = (b - a) / M\n",
    "    table = matrix(RR, M + 1, 2)\n",
    "    table[0] = a, ya\n",
    "    for k in range(1, M + 1):\n",
    "        xk, yk = table[k - 1][0], table[k - 1][1]\n",
    "        k1 = h * f(x=xk, y=yk)\n",
    "        k2 = h * f(x=xk + h/2, y=yk + k1/2)\n",
    "        k3 = h * f(x=xk + h/2, y=yk + k2/2)\n",
    "        k4 = h * f(x=xk + h, y=yk + k3)\n",
    "        table[k] = a + k * h, yk + h / 6 * (k1 + 2*k2 + 2*k3 + k4)\n",
    "    return table\n",
    "\n",
    "y = var('y')\n",
    "print(runge_kutta_4((x * exp(x) - 1) * sin(y), 1, 0.1, 3, 20).str())"
   ]
  }
 ],
 "metadata": {
  "kernelspec": {
   "display_name": "SageMath 9.6",
   "language": "sage",
   "name": "sagemath"
  },
  "language_info": {
   "codemirror_mode": {
    "name": "ipython",
    "version": 3
   },
   "file_extension": ".py",
   "mimetype": "text/x-python",
   "name": "python",
   "nbconvert_exporter": "python",
   "pygments_lexer": "ipython3",
   "version": "3.10.6"
  },
  "orig_nbformat": 4
 },
 "nbformat": 4,
 "nbformat_minor": 2
}
