{
 "cells": [
  {
   "cell_type": "code",
   "execution_count": 2,
   "metadata": {
    "vscode": {
     "languageId": "python"
    }
   },
   "outputs": [],
   "source": [
    "from sage.all import *"
   ]
  },
  {
   "cell_type": "code",
   "execution_count": 8,
   "metadata": {
    "vscode": {
     "languageId": "python"
    }
   },
   "outputs": [
    {
     "name": "stdout",
     "output_type": "stream",
     "text": [
      "1.00000000000000 2.23880597014925 3.00000000000000\n",
      "-0.942971708621074\n",
      "2.23880597014925 2.60446810973492 3.00000000000000\n",
      "-0.144631037268693\n",
      "2.60446810973492 2.65358768986911 3.00000000000000\n",
      "-0.0170156272269448\n"
     ]
    },
    {
     "data": {
      "text/plain": [
       "2.65358768986911"
      ]
     },
     "execution_count": 8,
     "metadata": {},
     "output_type": "execute_result"
    }
   ],
   "source": [
    "def method_of_false_position(f, a, b, delta, eps):\n",
    "    c = b - f(b) * (b - a) / (f(b) - f(a))\n",
    "    print(a.n(), c.n(), b.n())\n",
    "    print(f(c))\n",
    "    if b - a < delta or abs(f(c)) < eps:\n",
    "        return c\n",
    "    if f(a) * f(c) < 0:\n",
    "        return method_of_false_position(f, a, c, delta, eps)\n",
    "    else:\n",
    "        return method_of_false_position(f, c, b, delta, eps)\n",
    "\n",
    "method_of_false_position((c^2 - 2.66*c).function(c), 1, 3, 0.05, 0.05).n()"
   ]
  },
  {
   "cell_type": "code",
   "execution_count": 10,
   "metadata": {
    "vscode": {
     "languageId": "python"
    }
   },
   "outputs": [
    {
     "name": "stdout",
     "output_type": "stream",
     "text": [
      "1.00000000000000 2.23880597014925 3.00000000000000\n",
      "-0.942971708621074\n",
      "2.23880597014925 2.60446810973492 3.00000000000000\n",
      "-0.144631037268693\n",
      "2.60446810973492 2.65358768986911 3.00000000000000\n",
      "-0.0170156272269448\n"
     ]
    },
    {
     "data": {
      "text/plain": [
       "2.65358768986911"
      ]
     },
     "execution_count": 10,
     "metadata": {},
     "output_type": "execute_result"
    }
   ],
   "source": [
    "def method_of_false_position(f, a, b, delta, eps):\n",
    "    fa, fb = f(x=a), f(x=b)\n",
    "    c = b - fb * (b - a) / (fb - fa)\n",
    "    print(a.n(), c.n(), b.n())\n",
    "    fc = f(x=c)\n",
    "    print(fc)\n",
    "    if b - a < delta or abs(fc) < eps:\n",
    "        return c\n",
    "    if fa * fc < 0:\n",
    "        return method_of_false_position(f, a, c, delta, eps)\n",
    "    else:\n",
    "        return method_of_false_position(f, c, b, delta, eps)\n",
    "\n",
    "method_of_false_position(x^2 - 2.66*x, 1, 3, 0.05, 0.05).n()"
   ]
  },
  {
   "cell_type": "code",
   "execution_count": 14,
   "metadata": {
    "vscode": {
     "languageId": "python"
    }
   },
   "outputs": [
    {
     "name": "stdout",
     "output_type": "stream",
     "text": [
      "1.00000000000000 2.00000000000000 3.00000000000000\n",
      "0\n"
     ]
    },
    {
     "data": {
      "text/plain": [
       "2.00000000000000"
      ]
     },
     "execution_count": 14,
     "metadata": {},
     "output_type": "execute_result"
    }
   ],
   "source": [
    "def method_of_false_position(f, a, b, delta, eps):\n",
    "    fa, fb = f(x=a), f(x=b)\n",
    "    c = b - fb * (b - a) / (fb - fa)\n",
    "    fc = f(x=c)\n",
    "    print(a.n(), c.n(), b.n())\n",
    "    print(fc)\n",
    "    while not (b - a < delta or abs(fc) < eps):\n",
    "        if fa * fc < 0:\n",
    "            b = c\n",
    "            fb = fc\n",
    "        else:\n",
    "            a = c\n",
    "            fa = fc\n",
    "        c = b - fb * (b - a) / (fb - fa)\n",
    "        fc = f(x=c)\n",
    "        print(a.n(), c.n(), b.n())\n",
    "        print(fc)\n",
    "    return c\n",
    "\n",
    "#method_of_false_position(x^2 - 2.66*x, 1, 3, 0.05, 0.05).n()\n",
    "method_of_false_position(x - 2, 1, 3, 0.05, 0.05).n()"
   ]
  }
 ],
 "metadata": {
  "kernelspec": {
   "display_name": "SageMath 9.6",
   "language": "sage",
   "name": "sagemath"
  },
  "language_info": {
   "codemirror_mode": {
    "name": "ipython",
    "version": 3
   },
   "file_extension": ".py",
   "mimetype": "text/x-python",
   "name": "sage",
   "nbconvert_exporter": "python",
   "pygments_lexer": "ipython3",
   "version": "3.10.6"
  },
  "orig_nbformat": 4
 },
 "nbformat": 4,
 "nbformat_minor": 2
}
