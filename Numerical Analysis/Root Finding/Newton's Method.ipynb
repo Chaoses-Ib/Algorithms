{
 "cells": [
  {
   "cell_type": "code",
   "execution_count": 1,
   "metadata": {},
   "outputs": [],
   "source": [
    "from sage.all import *"
   ]
  },
  {
   "cell_type": "code",
   "execution_count": 3,
   "metadata": {},
   "outputs": [
    {
     "name": "stdout",
     "output_type": "stream",
     "text": [
      "2*x - 2.66000000000000\n",
      "-1.51515151515152\n",
      "-0.403437936721567\n",
      "-0.0469477924009167\n",
      "-0.000800355403263481\n"
     ]
    },
    {
     "data": {
      "text/plain": [
       "-0.000800355403263481"
      ]
     },
     "execution_count": 3,
     "metadata": {},
     "output_type": "execute_result"
    }
   ],
   "source": [
    "def newtons_method(f, x0, eps):\n",
    "    dfdx = f.diff(x)\n",
    "    print(dfdx)\n",
    "    while True:\n",
    "        x1 = x0 - f(x=x0) / dfdx(x=x0)\n",
    "        print(x1)\n",
    "        if abs(x1 - x0) < eps:\n",
    "            break\n",
    "        x0 = x1\n",
    "    return x1\n",
    "\n",
    "newtons_method(x^2 - 2.66*x, 1, 0.05)"
   ]
  }
 ],
 "metadata": {
  "kernelspec": {
   "display_name": "SageMath 9.6",
   "language": "sage",
   "name": "sagemath"
  },
  "language_info": {
   "codemirror_mode": {
    "name": "ipython",
    "version": 3
   },
   "file_extension": ".py",
   "mimetype": "text/x-python",
   "name": "python",
   "nbconvert_exporter": "python",
   "pygments_lexer": "ipython3",
   "version": "3.10.6"
  },
  "orig_nbformat": 4
 },
 "nbformat": 4,
 "nbformat_minor": 2
}
