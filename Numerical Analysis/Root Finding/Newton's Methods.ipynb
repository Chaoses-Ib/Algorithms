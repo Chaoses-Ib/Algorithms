{
 "cells": [
  {
   "cell_type": "code",
   "execution_count": 1,
   "metadata": {},
   "outputs": [],
   "source": [
    "from sage.all import *"
   ]
  },
  {
   "cell_type": "markdown",
   "metadata": {},
   "source": [
    "## Newton's method"
   ]
  },
  {
   "cell_type": "code",
   "execution_count": 3,
   "metadata": {},
   "outputs": [
    {
     "name": "stdout",
     "output_type": "stream",
     "text": [
      "2*x - 2.66000000000000\n",
      "-1.51515151515152\n",
      "-0.403437936721567\n",
      "-0.0469477924009167\n",
      "-0.000800355403263481\n"
     ]
    },
    {
     "data": {
      "text/plain": [
       "-0.000800355403263481"
      ]
     },
     "execution_count": 3,
     "metadata": {},
     "output_type": "execute_result"
    }
   ],
   "source": [
    "def newtons_method(f, x0, eps):\n",
    "    dfdx = f.diff(x)\n",
    "    print(dfdx)\n",
    "    while True:\n",
    "        x1 = x0 - f(x=x0) / dfdx(x=x0)\n",
    "        print(x1)\n",
    "        if abs(x1 - x0) < eps:\n",
    "            break\n",
    "        x0 = x1\n",
    "    return x1\n",
    "\n",
    "newtons_method(x^2 - 2.66*x, 1, 0.05)"
   ]
  },
  {
   "cell_type": "markdown",
   "metadata": {},
   "source": [
    "## Secant method"
   ]
  },
  {
   "cell_type": "code",
   "execution_count": null,
   "metadata": {},
   "outputs": [
    {
     "name": "stdout",
     "output_type": "stream",
     "text": [
      "5.88235294117647\n",
      "2.25275963054742\n",
      "2.42032050755476\n",
      "2.70848647761516\n",
      "2.65529278132512\n",
      "2.65991558613664\n"
     ]
    },
    {
     "data": {
      "text/plain": [
       "2.65991558613664"
      ]
     },
     "metadata": {},
     "output_type": "display_data"
    }
   ],
   "source": [
    "def secant_method(f, x0, x1, eps):\n",
    "    while True:\n",
    "        f0, f1 = f(x=x0), f(x=x1)\n",
    "        x2 = x1 - f1 * (x1 - x0) / (f1 - f0)\n",
    "        print(x2)\n",
    "        if abs(x2 - x1) < eps:\n",
    "            break\n",
    "        x0, x1 = x1, x2\n",
    "    return x2\n",
    "\n",
    "secant_method(x^2 - 2.66*x, 1, 2, 0.05)"
   ]
  }
 ],
 "metadata": {
  "kernelspec": {
   "display_name": "Python 3.9.1 ('base')",
   "language": "python",
   "name": "python3"
  },
  "language_info": {
   "codemirror_mode": {
    "name": "ipython",
    "version": 3
   },
   "file_extension": ".py",
   "mimetype": "text/x-python",
   "name": "python",
   "nbconvert_exporter": "python",
   "pygments_lexer": "ipython3",
   "version": "3.9.1"
  },
  "orig_nbformat": 4,
  "vscode": {
   "interpreter": {
    "hash": "19d1d53a962d236aa061289c2ac16dc8e6d9648c89fe79f459ae9a3493bc67b4"
   }
  }
 },
 "nbformat": 4,
 "nbformat_minor": 2
}
