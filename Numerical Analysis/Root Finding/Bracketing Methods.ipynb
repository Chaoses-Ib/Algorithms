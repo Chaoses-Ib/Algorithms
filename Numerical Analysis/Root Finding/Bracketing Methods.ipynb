{
 "cells": [
  {
   "cell_type": "code",
   "execution_count": 40,
   "metadata": {
    "vscode": {
     "languageId": "python"
    }
   },
   "outputs": [],
   "source": [
    "from sage.all import *"
   ]
  },
  {
   "cell_type": "markdown",
   "metadata": {},
   "source": [
    "## Bisection Method"
   ]
  },
  {
   "cell_type": "code",
   "execution_count": 42,
   "metadata": {
    "vscode": {
     "languageId": "python"
    }
   },
   "outputs": [
    {
     "data": {
      "text/plain": [
       "2.660000000000002"
      ]
     },
     "execution_count": 42,
     "metadata": {},
     "output_type": "execute_result"
    }
   ],
   "source": [
    "find_root(x^2 - 2.66*x, 1, 3)"
   ]
  },
  {
   "cell_type": "code",
   "execution_count": 48,
   "metadata": {
    "vscode": {
     "languageId": "python"
    }
   },
   "outputs": [
    {
     "name": "stdout",
     "output_type": "stream",
     "text": [
      "1.00000000000000 2.00000000000000 3.00000000000000\n",
      "2.00000000000000 2.50000000000000 3.00000000000000\n",
      "2.50000000000000 2.75000000000000 3.00000000000000\n",
      "2.50000000000000 2.62500000000000 2.75000000000000\n",
      "2.62500000000000 2.68750000000000 2.75000000000000\n",
      "2.62500000000000 2.65625000000000 2.68750000000000\n"
     ]
    },
    {
     "data": {
      "text/plain": [
       "2.65625000000000"
      ]
     },
     "execution_count": 48,
     "metadata": {},
     "output_type": "execute_result"
    }
   ],
   "source": [
    "def bisection_method(f, a, b, eps):\n",
    "    x = (a + b) / 2\n",
    "    print(a.n(), x.n(), b.n())\n",
    "    # |\\hat{x}-x| <= (b-a)/2 < eps\n",
    "    if b - a < 2*eps:\n",
    "        return x\n",
    "    if f(x=a) * f(x=x) < 0:\n",
    "        return bisection_method(f, a, x, eps)\n",
    "    else:\n",
    "        return bisection_method(f, x, b, eps)\n",
    "\n",
    "bisection_method(x^2 - 2.66*x, 1, 3, 0.05).n()"
   ]
  },
  {
   "cell_type": "code",
   "execution_count": 54,
   "metadata": {
    "vscode": {
     "languageId": "python"
    }
   },
   "outputs": [
    {
     "name": "stdout",
     "output_type": "stream",
     "text": [
      "0 1.00000000000000 2.00000000000000 3.00000000000000\n",
      "0 2.00000000000000 2.50000000000000 3.00000000000000\n",
      "0 2.50000000000000 2.75000000000000 3.00000000000000\n",
      "1 2.50000000000000 2.62500000000000 2.75000000000000\n",
      "0 2.62500000000000 2.68750000000000 2.75000000000000\n",
      "2 2.62500000000000 5.31250000000000 2.68750000000000\n"
     ]
    },
    {
     "data": {
      "text/plain": [
       "2.65625000000000"
      ]
     },
     "execution_count": 54,
     "metadata": {},
     "output_type": "execute_result"
    }
   ],
   "source": [
    "def bisection_method(f, a, b, eps):\n",
    "    fa = f(x=a)\n",
    "    while b - a >= 2*eps:\n",
    "        while b - a >= 2*eps:\n",
    "            x = (a + b) / 2\n",
    "            print(0, a.n(), x.n(), b.n())\n",
    "            fx = f(x=x)\n",
    "            if fa * fx < 0:\n",
    "                b = x\n",
    "                fb = fx\n",
    "                break\n",
    "            else:\n",
    "                a = x\n",
    "                fa = fx\n",
    "        \n",
    "        while b - a >= 2*eps:\n",
    "            x = (a + b) / 2\n",
    "            print(1, a.n(), x.n(), b.n())\n",
    "            fx = f(x=x)\n",
    "            if fx * fb < 0:\n",
    "                a = x\n",
    "                fa = fx\n",
    "                break\n",
    "            else:\n",
    "                b = x\n",
    "                fb = fx\n",
    "\n",
    "    x = (a + b) / 2\n",
    "    print(2, a.n(), (a + b).n(), b.n())\n",
    "    return x\n",
    "\n",
    "bisection_method(x^2 - 2.66*x, 1, 3, 0.05).n()"
   ]
  },
  {
   "cell_type": "code",
   "execution_count": 55,
   "metadata": {
    "vscode": {
     "languageId": "python"
    }
   },
   "outputs": [
    {
     "name": "stdout",
     "output_type": "stream",
     "text": [
      "1.00000000000000 2.00000000000000 3.00000000000000\n",
      "2.00000000000000 2.50000000000000 3.00000000000000\n",
      "2.50000000000000 2.75000000000000 3.00000000000000\n",
      "2.50000000000000 2.62500000000000 2.75000000000000\n",
      "2.62500000000000 2.68750000000000 2.75000000000000\n",
      "2.62500000000000 2.65625000000000 2.68750000000000\n"
     ]
    },
    {
     "data": {
      "text/plain": [
       "2.65625000000000"
      ]
     },
     "execution_count": 55,
     "metadata": {},
     "output_type": "execute_result"
    }
   ],
   "source": [
    "def bisection_method(f, a, b, eps):\n",
    "    fa = f(x=a)\n",
    "    while b - a >= 2*eps:\n",
    "        x = (a + b) / 2\n",
    "        print(a.n(), x.n(), b.n())\n",
    "        fx = f(x=x)\n",
    "        if fa * fx < 0:\n",
    "            b = x\n",
    "            # fb 被抛弃了\n",
    "        else:\n",
    "            a = x\n",
    "            fa = fx\n",
    "    \n",
    "    x = (a + b) / 2\n",
    "    print(a.n(), x.n(), b.n())\n",
    "    return x\n",
    "\n",
    "bisection_method(x^2 - 2.66*x, 1, 3, 0.05).n()"
   ]
  },
  {
   "cell_type": "markdown",
   "metadata": {},
   "source": [
    "## Method of False Position"
   ]
  },
  {
   "cell_type": "code",
   "execution_count": null,
   "metadata": {
    "vscode": {
     "languageId": "python"
    }
   },
   "outputs": [
    {
     "name": "stdout",
     "output_type": "stream",
     "text": [
      "1.00000000000000 2.23880597014925 3.00000000000000\n",
      "-0.942971708621074\n",
      "2.23880597014925 2.60446810973492 3.00000000000000\n",
      "-0.144631037268693\n",
      "2.60446810973492 2.65358768986911 3.00000000000000\n",
      "-0.0170156272269448\n"
     ]
    },
    {
     "data": {
      "text/plain": [
       "2.65358768986911"
      ]
     },
     "metadata": {},
     "output_type": "display_data"
    }
   ],
   "source": [
    "def method_of_false_position(f, a, b, delta, eps):\n",
    "    c = b - f(b) * (b - a) / (f(b) - f(a))\n",
    "    print(a.n(), c.n(), b.n())\n",
    "    print(f(c))\n",
    "    if b - a < delta or abs(f(c)) < eps:\n",
    "        return c\n",
    "    if f(a) * f(c) < 0:\n",
    "        return method_of_false_position(f, a, c, delta, eps)\n",
    "    else:\n",
    "        return method_of_false_position(f, c, b, delta, eps)\n",
    "\n",
    "method_of_false_position((c^2 - 2.66*c).function(c), 1, 3, 0.05, 0.05).n()"
   ]
  },
  {
   "cell_type": "code",
   "execution_count": null,
   "metadata": {
    "vscode": {
     "languageId": "python"
    }
   },
   "outputs": [
    {
     "name": "stdout",
     "output_type": "stream",
     "text": [
      "1.00000000000000 2.23880597014925 3.00000000000000\n",
      "-0.942971708621074\n",
      "2.23880597014925 2.60446810973492 3.00000000000000\n",
      "-0.144631037268693\n",
      "2.60446810973492 2.65358768986911 3.00000000000000\n",
      "-0.0170156272269448\n"
     ]
    },
    {
     "data": {
      "text/plain": [
       "2.65358768986911"
      ]
     },
     "metadata": {},
     "output_type": "display_data"
    }
   ],
   "source": [
    "def method_of_false_position(f, a, b, delta, eps):\n",
    "    fa, fb = f(x=a), f(x=b)\n",
    "    c = b - fb * (b - a) / (fb - fa)\n",
    "    print(a.n(), c.n(), b.n())\n",
    "    fc = f(x=c)\n",
    "    print(fc)\n",
    "    if b - a < delta or abs(fc) < eps:\n",
    "        return c\n",
    "    if fa * fc < 0:\n",
    "        return method_of_false_position(f, a, c, delta, eps)\n",
    "    else:\n",
    "        return method_of_false_position(f, c, b, delta, eps)\n",
    "\n",
    "method_of_false_position(x^2 - 2.66*x, 1, 3, 0.05, 0.05).n()"
   ]
  },
  {
   "cell_type": "code",
   "execution_count": null,
   "metadata": {
    "vscode": {
     "languageId": "python"
    }
   },
   "outputs": [
    {
     "name": "stdout",
     "output_type": "stream",
     "text": [
      "1.00000000000000 2.00000000000000 3.00000000000000\n",
      "0\n"
     ]
    },
    {
     "data": {
      "text/plain": [
       "2.00000000000000"
      ]
     },
     "metadata": {},
     "output_type": "display_data"
    }
   ],
   "source": [
    "def method_of_false_position(f, a, b, delta, eps):\n",
    "    fa, fb = f(x=a), f(x=b)\n",
    "    c = b - fb * (b - a) / (fb - fa)\n",
    "    fc = f(x=c)\n",
    "    print(a.n(), c.n(), b.n())\n",
    "    print(fc)\n",
    "    while not (b - a < delta or abs(fc) < eps):\n",
    "        if fa * fc < 0:\n",
    "            b = c\n",
    "            fb = fc\n",
    "        else:\n",
    "            a = c\n",
    "            fa = fc\n",
    "        c = b - fb * (b - a) / (fb - fa)\n",
    "        fc = f(x=c)\n",
    "        print(a.n(), c.n(), b.n())\n",
    "        print(fc)\n",
    "    return c\n",
    "\n",
    "#method_of_false_position(x^2 - 2.66*x, 1, 3, 0.05, 0.05).n()\n",
    "method_of_false_position(x - 2, 1, 3, 0.05, 0.05).n()"
   ]
  }
 ],
 "metadata": {
  "kernelspec": {
   "display_name": "SageMath 9.6",
   "language": "sage",
   "name": "sagemath"
  },
  "language_info": {
   "codemirror_mode": {
    "name": "ipython",
    "version": 3
   },
   "file_extension": ".py",
   "mimetype": "text/x-python",
   "name": "sage",
   "nbconvert_exporter": "python",
   "pygments_lexer": "ipython3",
   "version": "3.10.6"
  },
  "orig_nbformat": 4
 },
 "nbformat": 4,
 "nbformat_minor": 2
}
