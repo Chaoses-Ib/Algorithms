{
 "cells": [
  {
   "cell_type": "code",
   "execution_count": 1,
   "metadata": {},
   "outputs": [],
   "source": [
    "from sage.all import *"
   ]
  },
  {
   "cell_type": "code",
   "execution_count": 5,
   "metadata": {},
   "outputs": [
    {
     "data": {
      "text/plain": [
       "1.79500000000000"
      ]
     },
     "execution_count": 5,
     "metadata": {},
     "output_type": "execute_result"
    }
   ],
   "source": [
    "(-4 + 4*x - 1/2*x^2)(x=1.9)"
   ]
  },
  {
   "cell_type": "code",
   "execution_count": 6,
   "metadata": {},
   "outputs": [
    {
     "data": {
      "text/plain": [
       "3.98000000000000"
      ]
     },
     "execution_count": 6,
     "metadata": {},
     "output_type": "execute_result"
    }
   ],
   "source": [
    "(-4 + 4*x - 1/2*x^2)(x=3.8)"
   ]
  },
  {
   "cell_type": "code",
   "execution_count": 8,
   "metadata": {},
   "outputs": [
    {
     "name": "stdout",
     "output_type": "stream",
     "text": [
      "3.98000000000000\n",
      "3.99980000000000\n",
      "3.99999998000000\n"
     ]
    },
    {
     "data": {
      "text/plain": [
       "3.99999998000000"
      ]
     },
     "execution_count": 8,
     "metadata": {},
     "output_type": "execute_result"
    }
   ],
   "source": [
    "def fixed_point_iter(g, x0, eps):\n",
    "    x1 = g(x=x0)\n",
    "    print(x1)\n",
    "    while abs(x1 - x0) >= eps:\n",
    "        x0 = x1\n",
    "        x1 = g(x=x0)\n",
    "        print(x1)\n",
    "    return x1\n",
    "\n",
    "fixed_point_iter(-4 + 4*x - 1/2*x^2, 3.8, 0.01)"
   ]
  },
  {
   "cell_type": "code",
   "execution_count": 10,
   "metadata": {},
   "outputs": [
    {
     "name": "stdout",
     "output_type": "stream",
     "text": [
      "3.98000000000000\n",
      "3.99980000000000\n",
      "3.99999998000000\n"
     ]
    },
    {
     "data": {
      "text/plain": [
       "3.99999998000000"
      ]
     },
     "execution_count": 10,
     "metadata": {},
     "output_type": "execute_result"
    }
   ],
   "source": [
    "def fixed_point_iter(g, x0, eps, max_iteration):\n",
    "    for _ in range(max_iteration):\n",
    "        x1 = g(x=x0)\n",
    "        print(x1)\n",
    "        if abs(x1 - x0) < eps:\n",
    "            break\n",
    "        x0 = x1\n",
    "    return x1\n",
    "\n",
    "fixed_point_iter(-4 + 4*x - 1/2*x^2, 3.8, 0.01, 100)"
   ]
  }
 ],
 "metadata": {
  "kernelspec": {
   "display_name": "SageMath 9.6",
   "language": "sage",
   "name": "sagemath"
  },
  "language_info": {
   "codemirror_mode": {
    "name": "ipython",
    "version": 3
   },
   "file_extension": ".py",
   "mimetype": "text/x-python",
   "name": "python",
   "nbconvert_exporter": "python",
   "pygments_lexer": "ipython3",
   "version": "3.10.6"
  },
  "orig_nbformat": 4
 },
 "nbformat": 4,
 "nbformat_minor": 2
}
