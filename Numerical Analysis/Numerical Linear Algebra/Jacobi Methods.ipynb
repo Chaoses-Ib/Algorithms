{
 "cells": [
  {
   "cell_type": "code",
   "execution_count": 1,
   "metadata": {
    "vscode": {
     "languageId": "python"
    }
   },
   "outputs": [],
   "source": [
    "from sage.all import *"
   ]
  },
  {
   "cell_type": "code",
   "execution_count": 62,
   "metadata": {
    "vscode": {
     "languageId": "python"
    }
   },
   "outputs": [
    {
     "data": {
      "text/plain": [
       "(3, 5, 1)"
      ]
     },
     "execution_count": 62,
     "metadata": {},
     "output_type": "execute_result"
    }
   ],
   "source": [
    "A = matrix([\n",
    "    [4, 2, 1],\n",
    "    [2, 5, -2],\n",
    "    [1, -2, 7]\n",
    "])\n",
    "b = vector([23, 29, 0])\n",
    "A \\ b"
   ]
  },
  {
   "cell_type": "code",
   "execution_count": 68,
   "metadata": {
    "vscode": {
     "languageId": "python"
    }
   },
   "outputs": [
    {
     "name": "stdout",
     "output_type": "stream",
     "text": [
      "[1/4   0   0]\n",
      "[  0 1/5   0]\n",
      "[  0   0 1/7]\n",
      "[ 0  2  1]\n",
      "[ 2  0 -2]\n",
      "[ 1 -2  0]\n",
      "(5, 29/5, 1/7)\n",
      "(197/70, 27/7, 33/35)\n",
      "(251/70, 884/175, 7/10)\n",
      "(4269/1400, 813/175, 2281/2450)\n",
      "(6261/1960, 121341/24500, 8739/9800)\n",
      "(597941/196000, 59767/12250, 6711/7000)\n",
      "(601887/196000, 2431967/490000, 1314603/1372000)\n"
     ]
    },
    {
     "data": {
      "text/plain": [
       "(3.07085204081633, 4.96319795918367, 0.958165451895044)"
      ]
     },
     "execution_count": 68,
     "metadata": {},
     "output_type": "execute_result"
    }
   ],
   "source": [
    "def jacobi_method(A, b, x0, delta):\n",
    "    D = matrix(A.nrows(), A.ncols(), lambda i,j: A[i,j] if i == j else 0)\n",
    "    LU = A - D\n",
    "    D = D.inverse()\n",
    "    print(D, LU, sep='\\n')\n",
    "    while True:\n",
    "        x1 = D * (b - LU * x0)\n",
    "        print(x1)\n",
    "        if (x1 - x0).norm() < delta:\n",
    "            break\n",
    "        x0 = x1\n",
    "    return x1\n",
    "\n",
    "jacobi_method(A, b, vector([1, 1, 1]), 0.1).n()"
   ]
  },
  {
   "cell_type": "code",
   "execution_count": 103,
   "metadata": {
    "vscode": {
     "languageId": "python"
    }
   },
   "outputs": [
    {
     "name": "stdout",
     "output_type": "stream",
     "text": [
      "(5.00000000000000, 5.80000000000000, 0.142857142857143) 6.30671815428207\n",
      "(2.81428571428571, 3.85714285714286, 0.942857142857143) 3.03183786115394\n",
      "(3.58571428571429, 5.05142857142857, 0.700000000000000) 1.44235917856822\n",
      "(3.04928571428571, 4.64571428571429, 0.931020408163265) 0.711147047287319\n",
      "(3.19438775510204, 4.95269387755102, 0.891734693877551) 0.341810531435545\n",
      "(3.05071938775510, 4.87893877551020, 0.958714285714286) 0.174833293670861\n",
      "(3.07085204081633, 4.96319795918367, 0.958165451895044) 0.0866327592263126\n"
     ]
    },
    {
     "data": {
      "text/plain": [
       "(3.07085204081633, 4.96319795918367, 0.958165451895044)"
      ]
     },
     "execution_count": 103,
     "metadata": {},
     "output_type": "execute_result"
    }
   ],
   "source": [
    "def jacobi_method(A, b, x0, delta):\n",
    "    while True:\n",
    "        x1 = vector(RR, len(x0))\n",
    "        for i in range(A.nrows()):\n",
    "            x1[i] = 1/A[i,i] * (b[i] - sum(A[i,j] * x0[j] for j in filter(lambda j: j != i, range(A.nrows()))))\n",
    "        print(x1, (x1 - x0).norm())\n",
    "        if (x1 - x0).norm() < delta:\n",
    "            break\n",
    "        x0 = x1\n",
    "    return x1\n",
    "\n",
    "jacobi_method(A, b, vector([1, 1, 1]), 0.1)"
   ]
  },
  {
   "cell_type": "code",
   "execution_count": 104,
   "metadata": {
    "vscode": {
     "languageId": "python"
    }
   },
   "outputs": [
    {
     "name": "stdout",
     "output_type": "stream",
     "text": [
      "(5.00000000000000, 4.20000000000000, 0.485714285714286) 5.14825113955393\n",
      "(3.52857142857143, 4.58285714285714, 0.805306122448979) 1.55364750659875\n",
      "(3.25724489795918, 4.81922448979592, 0.911600583090379) 0.375214766868255\n",
      "(3.11248760932945, 4.91964518950437, 0.960971824239900) 0.182965868385372\n",
      "(3.04993444918784, 4.96441495002083, 0.982699350121973) 0.0799331888601861\n"
     ]
    },
    {
     "data": {
      "text/plain": [
       "(3.04993444918784, 4.96441495002083, 0.982699350121973)"
      ]
     },
     "execution_count": 104,
     "metadata": {},
     "output_type": "execute_result"
    }
   ],
   "source": [
    "def gauss_seidel_method(A, b, x0, delta):\n",
    "    while True:\n",
    "        x1 = copy(x0)\n",
    "        for i in range(A.nrows()):\n",
    "            x1[i] = 1/A[i,i] * (b[i] - sum(A[i,j] * x1[j] for j in filter(lambda j: j != i, range(A.nrows()))))\n",
    "        print(x1, (x1 - x0).norm())\n",
    "        if (x1 - x0).norm() < delta:\n",
    "            break\n",
    "        x0 = x1\n",
    "    return x1\n",
    "\n",
    "gauss_seidel_method(A, b, vector(RR, [1, 1, 1]), 0.1).n()"
   ]
  }
 ],
 "metadata": {
  "kernelspec": {
   "display_name": "SageMath 9.6",
   "language": "sage",
   "name": "sagemath"
  },
  "language_info": {
   "name": "sage"
  },
  "orig_nbformat": 4
 },
 "nbformat": 4,
 "nbformat_minor": 2
}
