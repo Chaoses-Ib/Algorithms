{
 "cells": [
  {
   "cell_type": "code",
   "execution_count": 2,
   "metadata": {},
   "outputs": [],
   "source": [
    "import numpy as np"
   ]
  },
  {
   "attachments": {},
   "cell_type": "markdown",
   "metadata": {},
   "source": [
    "# Matrix Transposition"
   ]
  },
  {
   "cell_type": "code",
   "execution_count": 18,
   "metadata": {},
   "outputs": [
    {
     "data": {
      "text/plain": [
       "array([[1., 4., 7.],\n",
       "       [2., 5., 8.],\n",
       "       [4., 6., 9.]])"
      ]
     },
     "execution_count": 18,
     "metadata": {},
     "output_type": "execute_result"
    }
   ],
   "source": [
    "def trans(A: np.ndarray):\n",
    "    B = np.empty((A.shape[1], A.shape[0]))\n",
    "    for i in range(A.shape[0]):\n",
    "        for j in range(A.shape[1]):\n",
    "            B[j][i] = A[i][j]\n",
    "    return B\n",
    "\n",
    "A = np.array([\n",
    "    [1, 2, 3],\n",
    "    [4, 5, 6],\n",
    "    [7, 8, 9]\n",
    "    ])\n",
    "trans(A)"
   ]
  },
  {
   "cell_type": "code",
   "execution_count": 3,
   "metadata": {},
   "outputs": [
    {
     "name": "stdout",
     "output_type": "stream",
     "text": [
      "0,0 True\n",
      "0,1 True\n",
      "1,0 True\n",
      "0,2 True\n",
      "1,1 True\n",
      "2,0 True\n",
      "0,3 False\n",
      "1,2 True\n",
      "2,1 True\n",
      "3,0 False\n",
      "0,4 False\n",
      "1,3 False\n",
      "2,2 True\n",
      "3,1 False\n",
      "4,0 False\n"
     ]
    },
    {
     "data": {
      "text/plain": [
       "array([[1., 4., 7.],\n",
       "       [2., 5., 8.],\n",
       "       [3., 6., 9.]])"
      ]
     },
     "execution_count": 3,
     "metadata": {},
     "output_type": "execute_result"
    }
   ],
   "source": [
    "def trans(A: np.ndarray):\n",
    "    assert A.shape[0] == A.shape[1]\n",
    "    #B = np.empty((A.shape[1], A.shape[0]))\n",
    "    B = np.zeros((A.shape[1], A.shape[0]))\n",
    "    max_index = min(A.shape[0], A.shape[1]) - 1\n",
    "    for k in range(2 * max_index + 1):\n",
    "        for i in range(k + 1):\n",
    "            j = k - i\n",
    "            print(f'{i},{j} {not (i > max_index or j > max_index)}')\n",
    "            if i > max_index or j > max_index:\n",
    "                continue\n",
    "            \n",
    "            B[j][i] = A[i][j]\n",
    "    return B\n",
    "\n",
    "A = np.array([\n",
    "    [1, 2, 3],\n",
    "    [4, 5, 6],\n",
    "    [7, 8, 9]\n",
    "    ])\n",
    "trans(A)"
   ]
  }
 ],
 "metadata": {
  "kernelspec": {
   "display_name": "Python 3.9.1 ('base')",
   "language": "python",
   "name": "python3"
  },
  "language_info": {
   "codemirror_mode": {
    "name": "ipython",
    "version": 3
   },
   "file_extension": ".py",
   "mimetype": "text/x-python",
   "name": "python",
   "nbconvert_exporter": "python",
   "pygments_lexer": "ipython3",
   "version": "3.9.1"
  },
  "orig_nbformat": 4,
  "vscode": {
   "interpreter": {
    "hash": "19d1d53a962d236aa061289c2ac16dc8e6d9648c89fe79f459ae9a3493bc67b4"
   }
  }
 },
 "nbformat": 4,
 "nbformat_minor": 2
}
