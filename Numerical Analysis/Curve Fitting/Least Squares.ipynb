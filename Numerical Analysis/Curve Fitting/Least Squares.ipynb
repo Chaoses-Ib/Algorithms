{
 "cells": [
  {
   "cell_type": "code",
   "execution_count": 1,
   "metadata": {},
   "outputs": [],
   "source": [
    "from sage.all import *"
   ]
  },
  {
   "cell_type": "code",
   "execution_count": 4,
   "metadata": {},
   "outputs": [
    {
     "data": {
      "text/plain": [
       "3*x^2 + 2*x + 1"
      ]
     },
     "execution_count": 4,
     "metadata": {},
     "output_type": "execute_result"
    }
   ],
   "source": [
    "def poly_from_coefficients(coeff):\n",
    "    return sum(coeff[k] * x^k for k in range(len(coeff)))\n",
    "\n",
    "poly_from_coefficients([1, 2, 3])"
   ]
  },
  {
   "cell_type": "code",
   "execution_count": null,
   "metadata": {},
   "outputs": [],
   "source": [
    "vector()"
   ]
  },
  {
   "cell_type": "code",
   "execution_count": 12,
   "metadata": {},
   "outputs": [
    {
     "name": "stdout",
     "output_type": "stream",
     "text": [
      "[  6  15  55]\n",
      "[ 15  55 225]\n",
      "[ 55 225 979]\n",
      "(14, 30, 122)\n",
      "(33/7, -39/14, 1/2)\n",
      "(4.71428571428571, -2.78571428571429, 0.500000000000000)\n",
      "0.500000000000000*x^2 - 2.78571428571429*x + 4.71428571428571\n"
     ]
    },
    {
     "data": {
      "text/plain": [
       "1/2*x^2 - 39/14*x + 33/7"
      ]
     },
     "execution_count": 12,
     "metadata": {},
     "output_type": "execute_result"
    }
   ],
   "source": [
    "def least_squares(X, Y, M):\n",
    "    A = matrix(M+1, M+1, lambda i,j: sum(X[k]^(i+j) for k in range(len(X))))\n",
    "    B = vector([sum(X[k]^i * Y[k] for k in range(len(X))) for i in range(M+1)])\n",
    "    print(A)\n",
    "    print(B)\n",
    "    a = A \\ B\n",
    "    print(a)\n",
    "    print(a.n())\n",
    "    print(poly_from_coefficients(a.n()))\n",
    "    return poly_from_coefficients(a)\n",
    "\n",
    "least_squares([0, 1, 2, 3, 4, 5], [5, 2, 1, 1, 2, 3], 2)"
   ]
  }
 ],
 "metadata": {
  "kernelspec": {
   "display_name": "SageMath 9.6",
   "language": "sage",
   "name": "sagemath"
  },
  "language_info": {
   "codemirror_mode": {
    "name": "ipython",
    "version": 3
   },
   "file_extension": ".py",
   "mimetype": "text/x-python",
   "name": "python",
   "nbconvert_exporter": "python",
   "pygments_lexer": "ipython3",
   "version": "3.10.6"
  },
  "orig_nbformat": 4
 },
 "nbformat": 4,
 "nbformat_minor": 2
}
