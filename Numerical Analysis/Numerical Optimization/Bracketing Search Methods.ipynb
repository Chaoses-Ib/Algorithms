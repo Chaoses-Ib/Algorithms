{
 "cells": [
  {
   "cell_type": "code",
   "execution_count": 1,
   "metadata": {},
   "outputs": [],
   "source": [
    "from sage.all import *"
   ]
  },
  {
   "cell_type": "code",
   "execution_count": 15,
   "metadata": {},
   "outputs": [
    {
     "data": {
      "text/plain": [
       "(-0.23246557515821561, 0.45018361745507013)"
      ]
     },
     "execution_count": 15,
     "metadata": {},
     "output_type": "execute_result"
    }
   ],
   "source": [
    "f = x^2 - sin(x)\n",
    "# x_min, min\n",
    "find_local_minimum(f, 0, 1, tol=1e-100)"
   ]
  },
  {
   "cell_type": "code",
   "execution_count": 26,
   "metadata": {},
   "outputs": [
    {
     "data": {
      "text/plain": [
       "0.618033988749895"
      ]
     },
     "execution_count": 26,
     "metadata": {},
     "output_type": "execute_result"
    }
   ],
   "source": [
    "((sqrt(5) - 1) / 2).n()"
   ]
  },
  {
   "cell_type": "code",
   "execution_count": 53,
   "metadata": {},
   "outputs": [
    {
     "name": "stdout",
     "output_type": "stream",
     "text": [
      "0.450183610786382 0.450183613487271\n"
     ]
    },
    {
     "data": {
      "text/plain": [
       "0.450183612136826"
      ]
     },
     "execution_count": 53,
     "metadata": {},
     "output_type": "execute_result"
    }
   ],
   "source": [
    "def golden_section_search(f, a, b, eps):\n",
    "    #R = 0.618\n",
    "    R = ((sqrt(5) - 1) / 2).n()\n",
    "    c = a + (1 - R) * (b - a)\n",
    "    d = a + R * (b - a)\n",
    "    f1, f2 = f(x=c), f(x=d)\n",
    "    while b - a >= eps:\n",
    "        #print(a, b)\n",
    "        if f1 < f2:\n",
    "            a, b = a, d\n",
    "            d = c\n",
    "            c = a + (1 - R) * (b - a)\n",
    "            f1, f2 = f(x=c), f1\n",
    "        elif f1 > f2:\n",
    "            a, b = c, b\n",
    "            c = d\n",
    "            d = a + R * (b - a)\n",
    "            f1, f2 = f2, f(x=d)\n",
    "        else:\n",
    "            a, b = c, d\n",
    "            c = a + (1 - R) * (b - a)\n",
    "            d = a + R * (b - a)\n",
    "            f1, f2 = f(x=c), f(x=d)\n",
    "    print(a, b)\n",
    "    return (a + b) / 2\n",
    "\n",
    "golden_section_search(f, 0, 1, 1e-8)"
   ]
  },
  {
   "cell_type": "code",
   "execution_count": 52,
   "metadata": {},
   "outputs": [
    {
     "name": "stdout",
     "output_type": "stream",
     "text": [
      "46069159/102334155 46069159/102334155\n"
     ]
    },
    {
     "data": {
      "text/plain": [
       "0.450183606831952"
      ]
     },
     "execution_count": 52,
     "metadata": {},
     "output_type": "execute_result"
    }
   ],
   "source": [
    "def fibonacci_search(f, a, b, eps):\n",
    "    min_fn = (b - a) / eps\n",
    "    n = 1\n",
    "    while fibonacci(n) <= min_fn:\n",
    "        n += 1\n",
    "    #print(n)\n",
    "\n",
    "    def r(k):\n",
    "        return fibonacci(n - 1 - k) / fibonacci(n - k)\n",
    "    \n",
    "    k = 0\n",
    "    c = a + (1 - r(k)) * (b - a)\n",
    "    d = a + r(k) * (b - a)\n",
    "    f1, f2 = f(x=c), f(x=d)\n",
    "    while b - a >= eps:\n",
    "        k += 1\n",
    "        #print(a, b)\n",
    "        if f1 < f2:\n",
    "            a, b = a, d\n",
    "            d = c\n",
    "            c = a + (1 - r(k)) * (b - a)\n",
    "            f1, f2 = f(x=c), f1\n",
    "        elif f1 > f2:\n",
    "            a, b = c, b\n",
    "            c = d\n",
    "            d = a + r(k) * (b - a)\n",
    "            f1, f2 = f2, f(x=d)\n",
    "        else:\n",
    "            a, b = c, d\n",
    "            c = a + (1 - r(k)) * (b - a)\n",
    "            d = a + r(k) * (b - a)\n",
    "            f1, f2 = f(x=c), f(x=d)\n",
    "    print(a, b)\n",
    "    return (a + b) / 2\n",
    "\n",
    "fibonacci_search(f, 0, 1, 1e-8).n()"
   ]
  }
 ],
 "metadata": {
  "kernelspec": {
   "display_name": "SageMath 9.6",
   "language": "sage",
   "name": "sagemath"
  },
  "language_info": {
   "codemirror_mode": {
    "name": "ipython",
    "version": 3
   },
   "file_extension": ".py",
   "mimetype": "text/x-python",
   "name": "python",
   "nbconvert_exporter": "python",
   "pygments_lexer": "ipython3",
   "version": "3.10.6"
  },
  "orig_nbformat": 4
 },
 "nbformat": 4,
 "nbformat_minor": 2
}
