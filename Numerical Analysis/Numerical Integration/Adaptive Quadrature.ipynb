{
 "cells": [
  {
   "cell_type": "code",
   "execution_count": 1,
   "metadata": {},
   "outputs": [],
   "source": [
    "from sage.all import *"
   ]
  },
  {
   "cell_type": "code",
   "execution_count": 39,
   "metadata": {},
   "outputs": [
    {
     "name": "stdout",
     "output_type": "stream",
     "text": [
      "1 0.920735492403948\n",
      "2 0.939793284806177\n",
      "4 0.944513521665390\n",
      "8 0.945690863582701\n",
      "16 0.945985029934386\n",
      "32 0.946058560962768\n",
      "64 0.946076943060063\n",
      "128 0.946081538543152\n",
      "256 0.946082687411347\n",
      "512 0.946082974628235\n",
      "1024 0.946083046432447\n"
     ]
    },
    {
     "data": {
      "text/plain": [
       "0.946083046432447"
      ]
     },
     "execution_count": 39,
     "metadata": {},
     "output_type": "execute_result"
    }
   ],
   "source": [
    "def adaptive_trapezoidal(f, a, b, eps):\n",
    "    h = b - a\n",
    "    t1 = h / 2 * (f(x=a) + f(x=b))\n",
    "    n = 1\n",
    "    print(n, t1.n())\n",
    "    while True:\n",
    "        h = (b - a) / n\n",
    "        t2 = t1 / 2 + h / 2 * sum(f(x=a + (i+1/2)*h) for i in range(n))\n",
    "        if abs(t2 - t1) < eps:\n",
    "            print(2*n, t2.n())\n",
    "            break\n",
    "        n *= 2\n",
    "        t1 = t2\n",
    "        print(n, t1.n())\n",
    "    return t2\n",
    "\n",
    "adaptive_trapezoidal(sin(x) / x, 1e-1000, 1, 1e-7).n()"
   ]
  },
  {
   "cell_type": "code",
   "execution_count": 68,
   "metadata": {},
   "outputs": [
    {
     "name": "stdout",
     "output_type": "stream",
     "text": [
      "[0.920735492403948 0.000000000000000 0.000000000000000 0.000000000000000]\n",
      "[0.939793284806177 0.946145882273587 0.000000000000000 0.000000000000000]\n",
      "[0.944513521665390 0.946086933951794 0.946083004063674 0.000000000000000]\n",
      "[0.945690863582701 0.946083310888472 0.946083069350917 0.946083070387223]\n",
      "[0.945985029934386 0.946083085384947 0.946083070351379 0.946083070367259]\n",
      "[0.946058560962768 0.946083071305562 0.946083070366936 0.946083070367183]\n"
     ]
    },
    {
     "data": {
      "text/plain": [
       "0.946083070367183"
      ]
     },
     "execution_count": 68,
     "metadata": {},
     "output_type": "execute_result"
    }
   ],
   "source": [
    "def insert_row(M,k,row):\n",
    "    return matrix(M.rows()[:k]+[row]+M.rows()[k:])\n",
    "\n",
    "def adaptive_romberg(f, a, b, eps):\n",
    "    t = matrix(RR, 5, 4)\n",
    "    n = 1\n",
    "    h = b - a\n",
    "    t[0, 0] = h / 2 * (f(x=a) + f(x=b))\n",
    "    i = 1\n",
    "    while True:\n",
    "        t[i, 0] = t[i-1, 0] / 2 + h / 2 * sum(f(x=(k+1/2)*h) for k in range(n))\n",
    "        n *= 2\n",
    "        h /= 2\n",
    "\n",
    "        for j in range(1, min(i+1, 4)):\n",
    "            t[i, j] = (4**j * t[i, j-1] - t[i-1, j-1]) / (4**j - 1)\n",
    "        if i >= 4:\n",
    "            #print(abs(t[i, 3] - t[i-1, 3]))\n",
    "            if abs(t[i, -1] - t[i-1, -1]) < eps:\n",
    "                break\n",
    "            else:\n",
    "                #t = insert_row(t, len(t.rows()), matrix(1, 4))\n",
    "                t = matrix(t.rows() + matrix(1, 4).rows())\n",
    "                #print(t, end='\\n\\n')\n",
    "\n",
    "        i += 1\n",
    "\n",
    "    print(t)\n",
    "    return t[-1][-1]\n",
    "\n",
    "#adaptive_romberg(4 / (1 + x^2), 0, 1, 1e-4)\n",
    "adaptive_romberg(sin(x) / x, 1e-100, 1, 1e-12)"
   ]
  }
 ],
 "metadata": {
  "kernelspec": {
   "display_name": "SageMath 9.6",
   "language": "sage",
   "name": "sagemath"
  },
  "language_info": {
   "codemirror_mode": {
    "name": "ipython",
    "version": 3
   },
   "file_extension": ".py",
   "mimetype": "text/x-python",
   "name": "python",
   "nbconvert_exporter": "python",
   "pygments_lexer": "ipython3",
   "version": "3.10.6"
  },
  "orig_nbformat": 4
 },
 "nbformat": 4,
 "nbformat_minor": 2
}
